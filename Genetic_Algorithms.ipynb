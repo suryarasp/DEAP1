{
  "nbformat": 4,
  "nbformat_minor": 0,
  "metadata": {
    "colab": {
      "name": "Genetic Algorithms.ipynb",
      "provenance": [],
      "include_colab_link": true
    },
    "kernelspec": {
      "name": "python3",
      "display_name": "Python 3"
    },
    "language_info": {
      "name": "python"
    }
  },
  "cells": [
    {
      "cell_type": "markdown",
      "metadata": {
        "id": "view-in-github",
        "colab_type": "text"
      },
      "source": [
        "<a href=\"https://colab.research.google.com/github/suryarasp/DEAP1/blob/master/Genetic_Algorithms.ipynb\" target=\"_parent\"><img src=\"https://colab.research.google.com/assets/colab-badge.svg\" alt=\"Open In Colab\"/></a>"
      ]
    },
    {
      "cell_type": "markdown",
      "metadata": {
        "id": "zfA7vABEdwVs"
      },
      "source": [
        "# Genetic algorithms"
      ]
    },
    {
      "cell_type": "markdown",
      "metadata": {
        "id": "l_0w2n7JdzVo"
      },
      "source": [
        "# Product class"
      ]
    },
    {
      "cell_type": "code",
      "metadata": {
        "id": "SUGxd6R7Ssb3"
      },
      "source": [
        "class Product():\n",
        "  def __init__(self, name, space, price):\n",
        "    self.name = name\n",
        "    self.space = space\n",
        "    self.price = price"
      ],
      "execution_count": 1,
      "outputs": []
    },
    {
      "cell_type": "code",
      "metadata": {
        "id": "Tp9-fMhYTm8w"
      },
      "source": [
        "p1 = Product('Refrigerator A', 0.751, 999.9)"
      ],
      "execution_count": 2,
      "outputs": []
    },
    {
      "cell_type": "code",
      "metadata": {
        "colab": {
          "base_uri": "https://localhost:8080/"
        },
        "id": "2iQUNo1FUUFY",
        "outputId": "d49151e8-0bfc-4bc8-aacc-badb523a8b76"
      },
      "source": [
        "p1.name, p1.space, p1.price"
      ],
      "execution_count": 3,
      "outputs": [
        {
          "output_type": "execute_result",
          "data": {
            "text/plain": [
              "('Refrigerator A', 0.751, 999.9)"
            ]
          },
          "metadata": {},
          "execution_count": 3
        }
      ]
    },
    {
      "cell_type": "code",
      "metadata": {
        "id": "zPd3bhTSUpYb"
      },
      "source": [
        "p2 = Product('Cell phone', 0.00000899, 2199.12)"
      ],
      "execution_count": 4,
      "outputs": []
    },
    {
      "cell_type": "code",
      "metadata": {
        "colab": {
          "base_uri": "https://localhost:8080/"
        },
        "id": "kpnAjmfPU4rl",
        "outputId": "707459fd-9a2e-48a3-8ef0-b89a068bbd1c"
      },
      "source": [
        "p2.name, p2.space, p2.price"
      ],
      "execution_count": 5,
      "outputs": [
        {
          "output_type": "execute_result",
          "data": {
            "text/plain": [
              "('Cell phone', 8.99e-06, 2199.12)"
            ]
          },
          "metadata": {},
          "execution_count": 5
        }
      ]
    },
    {
      "cell_type": "code",
      "metadata": {
        "id": "bDqNX7pUVJab"
      },
      "source": [
        "products_list = []\n",
        "products_list.append(Product('Refrigerator A', 0.751, 999.90))\n",
        "products_list.append(Product('Cell phone', 0.00000899, 2199.12))\n",
        "products_list.append(Product('TV 55', 0.400, 4346.99))\n",
        "products_list.append(Product(\"TV 50' \", 0.290, 3999.90))\n",
        "products_list.append(Product(\"TV 42' \", 0.200, 2999.00))\n",
        "products_list.append(Product(\"Notebook A\", 0.00350, 2499.90))\n",
        "products_list.append(Product(\"Ventilator\", 0.496, 199.90))\n",
        "products_list.append(Product(\"Microwave A\", 0.0424, 308.66))\n",
        "products_list.append(Product(\"Microwave B\", 0.0544, 429.90))\n",
        "products_list.append(Product(\"Microwave C\", 0.0319, 299.29))\n",
        "products_list.append(Product(\"Refrigerator B\", 0.635, 849.00))\n",
        "products_list.append(Product(\"Refrigerator C\", 0.870, 1199.89))\n",
        "products_list.append(Product(\"Notebook B\", 0.498, 1999.90))\n",
        "products_list.append(Product(\"Notebook C\", 0.527, 3999.00)) "
      ],
      "execution_count": 6,
      "outputs": []
    },
    {
      "cell_type": "code",
      "metadata": {
        "colab": {
          "base_uri": "https://localhost:8080/"
        },
        "id": "4SWtAMcpVs55",
        "outputId": "fc7d5d63-a586-4bf9-f956-bf0579d7d1d8"
      },
      "source": [
        "for product in products_list:\n",
        "  print(product.name, ' - ', product.price, ' - ', product.space)"
      ],
      "execution_count": 7,
      "outputs": [
        {
          "output_type": "stream",
          "name": "stdout",
          "text": [
            "Refrigerator A  -  999.9  -  0.751\n",
            "Cell phone  -  2199.12  -  8.99e-06\n",
            "TV 55  -  4346.99  -  0.4\n",
            "TV 50'   -  3999.9  -  0.29\n",
            "TV 42'   -  2999.0  -  0.2\n",
            "Notebook A  -  2499.9  -  0.0035\n",
            "Ventilator  -  199.9  -  0.496\n",
            "Microwave A  -  308.66  -  0.0424\n",
            "Microwave B  -  429.9  -  0.0544\n",
            "Microwave C  -  299.29  -  0.0319\n",
            "Refrigerator B  -  849.0  -  0.635\n",
            "Refrigerator C  -  1199.89  -  0.87\n",
            "Notebook B  -  1999.9  -  0.498\n",
            "Notebook C  -  3999.0  -  0.527\n"
          ]
        }
      ]
    },
    {
      "cell_type": "markdown",
      "metadata": {
        "id": "BB7Y3hTzhP5t"
      },
      "source": [
        "# Individual class"
      ]
    },
    {
      "cell_type": "code",
      "metadata": {
        "id": "h3ZS8c4ckPpe"
      },
      "source": [
        "from random import random"
      ],
      "execution_count": 8,
      "outputs": []
    },
    {
      "cell_type": "code",
      "metadata": {
        "colab": {
          "base_uri": "https://localhost:8080/"
        },
        "id": "PNoFhToEkSSy",
        "outputId": "2fa82368-9c1c-43f7-ad2b-e674df2ca21f"
      },
      "source": [
        "random()"
      ],
      "execution_count": 9,
      "outputs": [
        {
          "output_type": "execute_result",
          "data": {
            "text/plain": [
              "0.8142621871285782"
            ]
          },
          "metadata": {},
          "execution_count": 9
        }
      ]
    },
    {
      "cell_type": "code",
      "metadata": {
        "id": "kdwdPe27kJh3"
      },
      "source": [
        "class Individual():\n",
        "  def __init__(self, spaces, prices, space_limit, generation=0):\n",
        "    self.spaces = spaces\n",
        "    self.prices = prices\n",
        "    self.space_limit = space_limit\n",
        "    self.score_evaluation = 0\n",
        "    self.used_space = 0\n",
        "    self.generation = generation\n",
        "    self.chromosome = []\n",
        "\n",
        "    for i in range(len(spaces)):\n",
        "      if random() < 0.5:\n",
        "        self.chromosome.append('0')\n",
        "      else:\n",
        "        self.chromosome.append('1')\n",
        "\n",
        "  def fitness(self):\n",
        "    score = 0\n",
        "    sum_spaces = 0\n",
        "    for i in range(len(self.chromosome)):\n",
        "      if self.chromosome[i] == '1':\n",
        "        score += self.prices[i]\n",
        "        sum_spaces += self.spaces[i]\n",
        "    if sum_spaces > self.space_limit:\n",
        "      score = 1\n",
        "    self.score_evaluation = score\n",
        "    self.used_space = sum_spaces\n",
        "\n",
        "  def crossover(self, other_individual):\n",
        "    cutoff = round(random() * len(self.chromosome))\n",
        "    #print(cutoff)\n",
        "\n",
        "    child1 = other_individual.chromosome[0:cutoff] + self.chromosome[cutoff::]\n",
        "    child2 = self.chromosome[0:cutoff] + other_individual.chromosome[cutoff::]\n",
        "    #print(child1)\n",
        "    #print(child2)\n",
        "    children = [Individual(self.spaces, self.prices, self.space_limit, self.generation + 1),\n",
        "                Individual(self.spaces, self.prices, self.space_limit, self.generation + 1)]\n",
        "    children[0].chromosome = child1\n",
        "    children[1].chromosome = child2\n",
        "    return children\n",
        "\n",
        "  def mutation(self, rate):\n",
        "    #print('Before:', self.chromosome)\n",
        "    for i in range(len(self.chromosome)):\n",
        "      if random() < rate:\n",
        "        if self.chromosome[i] == '1':\n",
        "          self.chromosome[i] = '0'\n",
        "        else:\n",
        "          self.chromosome[i] = '1'\n",
        "    #print('After: ', self.chromosome)\n",
        "    return self"
      ],
      "execution_count": 10,
      "outputs": []
    },
    {
      "cell_type": "code",
      "metadata": {
        "id": "Ah1BqM1kjpDX",
        "colab": {
          "base_uri": "https://localhost:8080/"
        },
        "outputId": "0564203c-d090-48e1-a1bd-f0a91cfe3856"
      },
      "source": [
        "0.01"
      ],
      "execution_count": 11,
      "outputs": [
        {
          "output_type": "execute_result",
          "data": {
            "text/plain": [
              "0.01"
            ]
          },
          "metadata": {},
          "execution_count": 11
        }
      ]
    },
    {
      "cell_type": "code",
      "metadata": {
        "colab": {
          "base_uri": "https://localhost:8080/"
        },
        "id": "Z8bIsum_jqcU",
        "outputId": "08bb8952-f9cd-4abd-e30d-42f53bd0e9c2"
      },
      "source": [
        "random()"
      ],
      "execution_count": 12,
      "outputs": [
        {
          "output_type": "execute_result",
          "data": {
            "text/plain": [
              "0.06341246721148563"
            ]
          },
          "metadata": {},
          "execution_count": 12
        }
      ]
    },
    {
      "cell_type": "markdown",
      "metadata": {
        "id": "JNMT0eTHmUR4"
      },
      "source": [
        "# Genectic Algorithm class"
      ]
    },
    {
      "cell_type": "code",
      "metadata": {
        "id": "h0qDsZwmndl2"
      },
      "source": [
        "class GeneticAlgorithm():\n",
        "  def __init__(self, population_size):\n",
        "    self.population_size = population_size\n",
        "    self.population = []\n",
        "    self.generation = 0\n",
        "    self.best_solution = None\n",
        "    self.list_of_solutions = []\n",
        "\n",
        "  def initialize_population(self, spaces, prices, space_limit):\n",
        "    for i in range(self.population_size):\n",
        "      self.population.append(Individual(spaces, prices, space_limit))\n",
        "    self.best_solution = self.population[0]\n",
        "\n",
        "  def order_population(self):\n",
        "    self.population = sorted(self.population, key=lambda population: population.score_evaluation, reverse=True)\n",
        "\n",
        "  def best_individual(self, individual):\n",
        "    if individual.score_evaluation > self.best_solution.score_evaluation:\n",
        "      self.best_solution = individual\n",
        "\n",
        "  def sum_evaluations(self):\n",
        "    sum = 0\n",
        "    for individual in self.population:\n",
        "      sum += individual.score_evaluation\n",
        "    return sum\n",
        "\n",
        "  def select_parent(self, sum_evaluation):\n",
        "    parent = -1\n",
        "    random_value = random() * sum_evaluation\n",
        "    sum = 0\n",
        "    i = 0\n",
        "    #print('*** random value:', random_value)\n",
        "    while i < len(self.population) and sum < random_value:\n",
        "      #print('i:', i, ' - sum: ', sum)\n",
        "      sum += self.population[i].score_evaluation\n",
        "      parent += 1\n",
        "      i += 1\n",
        "    return parent\n",
        "\n",
        "  def visualize_generation(self):\n",
        "    best = self.population[0]\n",
        "    print('Generation: ', self.population[0].generation,\n",
        "          'Total price: ', best.score_evaluation, 'Space: ', best.used_space,\n",
        "          'Chromosome: ', best.chromosome)\n",
        "    \n",
        "  def solve(self, mutation_probability, number_of_generations, spaces, prices, limit):\n",
        "    self.initialize_population(spaces, prices, limit)\n",
        "    \n",
        "    for individual in self.population:\n",
        "      individual.fitness()\n",
        "    self.order_population()\n",
        "    self.best_solution = self.population[0]\n",
        "    self.list_of_solutions.append(self.best_solution.score_evaluation)\n",
        "\n",
        "    self.visualize_generation()\n",
        "    \n",
        "    for generation in range(number_of_generations):\n",
        "      sum = self.sum_evaluations()\n",
        "      new_population = []\n",
        "      for new_individuals in range(0, self.population_size, 2):\n",
        "        parent1 = self.select_parent(sum)\n",
        "        parent2 = self.select_parent(sum)\n",
        "        children = self.population[parent1].crossover(self.population[parent2])\n",
        "        new_population.append(children[0].mutation(mutation_probability))\n",
        "        new_population.append(children[1].mutation(mutation_probability))\n",
        "      \n",
        "      self.population = list(new_population)\n",
        "\n",
        "      for individual in self.population:\n",
        "        individual.fitness()\n",
        "      self.visualize_generation()\n",
        "      best = self.population[0]\n",
        "      self.list_of_solutions.append(best.score_evaluation)\n",
        "      self.best_individual(best)\n",
        "\n",
        "    print('**** Best solution - Generation: ', self.best_solution.generation,\n",
        "          'Total price: ', self.best_solution.score_evaluation, 'Space: ', self.best_solution.used_space,\n",
        "          'Chromosome: ', self.best_solution.chromosome)\n",
        "    \n",
        "    return self.best_solution.chromosome"
      ],
      "execution_count": 13,
      "outputs": []
    },
    {
      "cell_type": "markdown",
      "metadata": {
        "id": "KpUVlN_d-yQ9"
      },
      "source": [
        "# Testing the code"
      ]
    },
    {
      "cell_type": "code",
      "metadata": {
        "colab": {
          "base_uri": "https://localhost:8080/"
        },
        "id": "JijkmDD4zPB-",
        "outputId": "c5b20445-045f-4ce0-a336-4d29ac18e69b"
      },
      "source": [
        "round(random() * 14)"
      ],
      "execution_count": 14,
      "outputs": [
        {
          "output_type": "execute_result",
          "data": {
            "text/plain": [
              "2"
            ]
          },
          "metadata": {},
          "execution_count": 14
        }
      ]
    },
    {
      "cell_type": "code",
      "metadata": {
        "id": "WpckOiNXkz8_"
      },
      "source": [
        "spaces = []\n",
        "prices = []\n",
        "names = []\n",
        "for product in products_list:\n",
        "  spaces.append(product.space)\n",
        "  prices.append(product.price)\n",
        "  names.append(product.name)\n",
        "limit = 3"
      ],
      "execution_count": 15,
      "outputs": []
    },
    {
      "cell_type": "code",
      "metadata": {
        "colab": {
          "base_uri": "https://localhost:8080/"
        },
        "id": "y1e-9oXZlPlu",
        "outputId": "00f62137-ffc7-4479-9299-8c96c9021023"
      },
      "source": [
        "print(spaces)"
      ],
      "execution_count": 16,
      "outputs": [
        {
          "output_type": "stream",
          "name": "stdout",
          "text": [
            "[0.751, 8.99e-06, 0.4, 0.29, 0.2, 0.0035, 0.496, 0.0424, 0.0544, 0.0319, 0.635, 0.87, 0.498, 0.527]\n"
          ]
        }
      ]
    },
    {
      "cell_type": "code",
      "metadata": {
        "colab": {
          "base_uri": "https://localhost:8080/"
        },
        "id": "W0itRVv0lSJA",
        "outputId": "117f4329-d789-45a7-ec84-147ac9ad124f"
      },
      "source": [
        "print(prices)"
      ],
      "execution_count": 17,
      "outputs": [
        {
          "output_type": "stream",
          "name": "stdout",
          "text": [
            "[999.9, 2199.12, 4346.99, 3999.9, 2999.0, 2499.9, 199.9, 308.66, 429.9, 299.29, 849.0, 1199.89, 1999.9, 3999.0]\n"
          ]
        }
      ]
    },
    {
      "cell_type": "code",
      "metadata": {
        "colab": {
          "base_uri": "https://localhost:8080/"
        },
        "id": "uNp1OF89lUra",
        "outputId": "55ef8809-8192-45d5-c476-ac30ad7030c9"
      },
      "source": [
        "print(names)"
      ],
      "execution_count": 18,
      "outputs": [
        {
          "output_type": "stream",
          "name": "stdout",
          "text": [
            "['Refrigerator A', 'Cell phone', 'TV 55', \"TV 50' \", \"TV 42' \", 'Notebook A', 'Ventilator', 'Microwave A', 'Microwave B', 'Microwave C', 'Refrigerator B', 'Refrigerator C', 'Notebook B', 'Notebook C']\n"
          ]
        }
      ]
    },
    {
      "cell_type": "code",
      "metadata": {
        "colab": {
          "base_uri": "https://localhost:8080/"
        },
        "id": "Znw146uIl9AG",
        "outputId": "0debb12c-03a8-4653-e2ed-1cf27fb96f7f"
      },
      "source": [
        "len(spaces)"
      ],
      "execution_count": 19,
      "outputs": [
        {
          "output_type": "execute_result",
          "data": {
            "text/plain": [
              "14"
            ]
          },
          "metadata": {},
          "execution_count": 19
        }
      ]
    },
    {
      "cell_type": "code",
      "metadata": {
        "colab": {
          "base_uri": "https://localhost:8080/"
        },
        "id": "ftK2kcbblY7P",
        "outputId": "fab25ba4-adff-448a-ade5-cc9bbe64899c"
      },
      "source": [
        "names[5], prices[5], spaces[5]"
      ],
      "execution_count": 20,
      "outputs": [
        {
          "output_type": "execute_result",
          "data": {
            "text/plain": [
              "('Notebook A', 2499.9, 0.0035)"
            ]
          },
          "metadata": {},
          "execution_count": 20
        }
      ]
    },
    {
      "cell_type": "code",
      "metadata": {
        "colab": {
          "base_uri": "https://localhost:8080/"
        },
        "id": "qnN6TbEnlmOL",
        "outputId": "a1bfab6b-41d0-49ec-aefa-b45074180e52"
      },
      "source": [
        "individual1 = Individual(spaces, prices, limit)\n",
        "#print('Spaces: ', individual1.spaces)\n",
        "#print('Prices: ', individual1.prices)\n",
        "#print('Chromosome: ', individual1.chromosome)\n",
        "for i in range(len(products_list)):\n",
        "  #print(individual1.chromosome[i])\n",
        "  if individual1.chromosome[i] == '1':\n",
        "    print('Name: ', products_list[i].name)\n",
        "individual1.fitness()\n",
        "print('Score: ', individual1.score_evaluation)\n",
        "print('Used space: ', individual1.used_space)\n",
        "print('Chromosome: ', individual1.chromosome)"
      ],
      "execution_count": 21,
      "outputs": [
        {
          "output_type": "stream",
          "name": "stdout",
          "text": [
            "Name:  Refrigerator A\n",
            "Name:  Cell phone\n",
            "Name:  TV 55\n",
            "Name:  TV 42' \n",
            "Name:  Notebook A\n",
            "Name:  Ventilator\n",
            "Name:  Microwave C\n",
            "Name:  Refrigerator B\n",
            "Name:  Notebook B\n",
            "Score:  1\n",
            "Used space:  3.01540899\n",
            "Chromosome:  ['1', '1', '1', '0', '1', '1', '1', '0', '0', '1', '1', '0', '1', '0']\n"
          ]
        }
      ]
    },
    {
      "cell_type": "code",
      "metadata": {
        "colab": {
          "base_uri": "https://localhost:8080/"
        },
        "id": "ojYGN8T8yD-b",
        "outputId": "0ad79818-87a6-4e34-aa72-4e5862f305ed"
      },
      "source": [
        "individual2 = Individual(spaces, prices, limit)\n",
        "#print('Spaces: ', individual1.spaces)\n",
        "#print('Prices: ', individual1.prices)\n",
        "#print('Chromosome: ', individual1.chromosome)\n",
        "for i in range(len(products_list)):\n",
        "  #print(individual1.chromosome[i])\n",
        "  if individual2.chromosome[i] == '1':\n",
        "    print('Name: ', products_list[i].name)\n",
        "individual2.fitness()\n",
        "print('Score: ', individual2.score_evaluation)\n",
        "print('Used space: ', individual2.used_space)\n",
        "print('Chromosome: ', individual2.chromosome)"
      ],
      "execution_count": 22,
      "outputs": [
        {
          "output_type": "stream",
          "name": "stdout",
          "text": [
            "Name:  Ventilator\n",
            "Name:  Microwave B\n",
            "Name:  Microwave C\n",
            "Name:  Notebook C\n",
            "Score:  4928.09\n",
            "Used space:  1.1093000000000002\n",
            "Chromosome:  ['0', '0', '0', '0', '0', '0', '1', '0', '1', '1', '0', '0', '0', '1']\n"
          ]
        }
      ]
    },
    {
      "cell_type": "code",
      "metadata": {
        "id": "qHs0k3vX1d2Q"
      },
      "source": [
        "children = individual1.crossover(individual2)"
      ],
      "execution_count": 23,
      "outputs": []
    },
    {
      "cell_type": "code",
      "metadata": {
        "colab": {
          "base_uri": "https://localhost:8080/"
        },
        "id": "C8hQja0G3Tzx",
        "outputId": "ca6a1627-5586-4344-b0fb-3bae01e5e1c6"
      },
      "source": [
        "children[0].fitness()\n",
        "print(children[0].score_evaluation)\n",
        "print(children[0].chromosome)"
      ],
      "execution_count": 24,
      "outputs": [
        {
          "output_type": "stream",
          "name": "stdout",
          "text": [
            "3348.09\n",
            "['0', '0', '0', '0', '0', '0', '1', '0', '0', '1', '1', '0', '1', '0']\n"
          ]
        }
      ]
    },
    {
      "cell_type": "code",
      "metadata": {
        "id": "lAqv9tW14X0f",
        "colab": {
          "base_uri": "https://localhost:8080/"
        },
        "outputId": "339a01a7-31f3-473b-cd41-992599501ff2"
      },
      "source": [
        "children[1].fitness()\n",
        "print(children[1].score_evaluation)\n",
        "print(children[1].chromosome)"
      ],
      "execution_count": 25,
      "outputs": [
        {
          "output_type": "stream",
          "name": "stdout",
          "text": [
            "17973.0\n",
            "['1', '1', '1', '0', '1', '1', '1', '0', '1', '1', '0', '0', '0', '1']\n"
          ]
        }
      ]
    },
    {
      "cell_type": "code",
      "metadata": {
        "colab": {
          "base_uri": "https://localhost:8080/"
        },
        "id": "P-6qmK2VkfXz",
        "outputId": "63da56d7-c158-4beb-d459-96e86dc9e549"
      },
      "source": [
        "individual1.mutation(0.01)"
      ],
      "execution_count": 26,
      "outputs": [
        {
          "output_type": "execute_result",
          "data": {
            "text/plain": [
              "<__main__.Individual at 0x7fc65874b9d0>"
            ]
          },
          "metadata": {},
          "execution_count": 26
        }
      ]
    },
    {
      "cell_type": "code",
      "metadata": {
        "id": "goKw19i4pF5f"
      },
      "source": [
        "population_size = 20\n",
        "ga = GeneticAlgorithm(population_size)\n",
        "ga.initialize_population(spaces, prices, limit)"
      ],
      "execution_count": 27,
      "outputs": []
    },
    {
      "cell_type": "code",
      "metadata": {
        "colab": {
          "base_uri": "https://localhost:8080/"
        },
        "id": "pC-YNvEUpaUb",
        "outputId": "90134239-151b-4d53-c6bd-e6e80cf94671"
      },
      "source": [
        "len(ga.population)"
      ],
      "execution_count": 28,
      "outputs": [
        {
          "output_type": "execute_result",
          "data": {
            "text/plain": [
              "20"
            ]
          },
          "metadata": {},
          "execution_count": 28
        }
      ]
    },
    {
      "cell_type": "code",
      "metadata": {
        "colab": {
          "base_uri": "https://localhost:8080/"
        },
        "id": "EZc7-Eyipj2e",
        "outputId": "59623e9f-e29b-45f7-c3ca-b1d5f9e7cdc3"
      },
      "source": [
        "ga.population[0].chromosome"
      ],
      "execution_count": 29,
      "outputs": [
        {
          "output_type": "execute_result",
          "data": {
            "text/plain": [
              "['0', '0', '1', '1', '0', '1', '0', '1', '1', '0', '0', '1', '0', '1']"
            ]
          },
          "metadata": {},
          "execution_count": 29
        }
      ]
    },
    {
      "cell_type": "code",
      "metadata": {
        "id": "g2NdJHuJpru_",
        "colab": {
          "base_uri": "https://localhost:8080/"
        },
        "outputId": "6b81016f-119e-464b-cea7-3ac11581e6f5"
      },
      "source": [
        "ga.population[1].chromosome"
      ],
      "execution_count": 30,
      "outputs": [
        {
          "output_type": "execute_result",
          "data": {
            "text/plain": [
              "['0', '1', '0', '1', '0', '1', '1', '0', '1', '0', '1', '0', '1', '1']"
            ]
          },
          "metadata": {},
          "execution_count": 30
        }
      ]
    },
    {
      "cell_type": "code",
      "metadata": {
        "colab": {
          "base_uri": "https://localhost:8080/"
        },
        "id": "uMBl-vn_MLQx",
        "outputId": "07fc4a71-d5e4-4b42-fbd3-30cfc1889396"
      },
      "source": [
        "for individual in ga.population:\n",
        "  individual.fitness()\n",
        "ga.order_population()\n",
        "for i in range(ga.population_size):\n",
        "  print('Individual: ', i, '\\nSpaces: ', ga.population[i].spaces, '\\nPrices: ', ga.population[i].prices,\n",
        "        '\\nChromosome: ', ga.population[i].chromosome, '\\nScore: ', ga.population[i].score_evaluation, '\\n')"
      ],
      "execution_count": 31,
      "outputs": [
        {
          "output_type": "stream",
          "name": "stdout",
          "text": [
            "Individual:  0 \n",
            "Spaces:  [0.751, 8.99e-06, 0.4, 0.29, 0.2, 0.0035, 0.496, 0.0424, 0.0544, 0.0319, 0.635, 0.87, 0.498, 0.527] \n",
            "Prices:  [999.9, 2199.12, 4346.99, 3999.9, 2999.0, 2499.9, 199.9, 308.66, 429.9, 299.29, 849.0, 1199.89, 1999.9, 3999.0] \n",
            "Chromosome:  ['0', '0', '1', '1', '1', '1', '0', '0', '0', '1', '0', '1', '1', '1'] \n",
            "Score:  21343.87 \n",
            "\n",
            "Individual:  1 \n",
            "Spaces:  [0.751, 8.99e-06, 0.4, 0.29, 0.2, 0.0035, 0.496, 0.0424, 0.0544, 0.0319, 0.635, 0.87, 0.498, 0.527] \n",
            "Prices:  [999.9, 2199.12, 4346.99, 3999.9, 2999.0, 2499.9, 199.9, 308.66, 429.9, 299.29, 849.0, 1199.89, 1999.9, 3999.0] \n",
            "Chromosome:  ['1', '1', '1', '1', '1', '1', '0', '0', '0', '0', '0', '0', '1', '0'] \n",
            "Score:  19044.710000000003 \n",
            "\n",
            "Individual:  2 \n",
            "Spaces:  [0.751, 8.99e-06, 0.4, 0.29, 0.2, 0.0035, 0.496, 0.0424, 0.0544, 0.0319, 0.635, 0.87, 0.498, 0.527] \n",
            "Prices:  [999.9, 2199.12, 4346.99, 3999.9, 2999.0, 2499.9, 199.9, 308.66, 429.9, 299.29, 849.0, 1199.89, 1999.9, 3999.0] \n",
            "Chromosome:  ['0', '0', '1', '1', '0', '1', '0', '1', '1', '0', '0', '1', '0', '1'] \n",
            "Score:  16784.239999999998 \n",
            "\n",
            "Individual:  3 \n",
            "Spaces:  [0.751, 8.99e-06, 0.4, 0.29, 0.2, 0.0035, 0.496, 0.0424, 0.0544, 0.0319, 0.635, 0.87, 0.498, 0.527] \n",
            "Prices:  [999.9, 2199.12, 4346.99, 3999.9, 2999.0, 2499.9, 199.9, 308.66, 429.9, 299.29, 849.0, 1199.89, 1999.9, 3999.0] \n",
            "Chromosome:  ['0', '1', '0', '1', '0', '1', '0', '1', '1', '0', '1', '0', '1', '1'] \n",
            "Score:  16285.38 \n",
            "\n",
            "Individual:  4 \n",
            "Spaces:  [0.751, 8.99e-06, 0.4, 0.29, 0.2, 0.0035, 0.496, 0.0424, 0.0544, 0.0319, 0.635, 0.87, 0.498, 0.527] \n",
            "Prices:  [999.9, 2199.12, 4346.99, 3999.9, 2999.0, 2499.9, 199.9, 308.66, 429.9, 299.29, 849.0, 1199.89, 1999.9, 3999.0] \n",
            "Chromosome:  ['0', '1', '0', '1', '0', '1', '1', '0', '1', '0', '1', '0', '1', '1'] \n",
            "Score:  16176.619999999999 \n",
            "\n",
            "Individual:  5 \n",
            "Spaces:  [0.751, 8.99e-06, 0.4, 0.29, 0.2, 0.0035, 0.496, 0.0424, 0.0544, 0.0319, 0.635, 0.87, 0.498, 0.527] \n",
            "Prices:  [999.9, 2199.12, 4346.99, 3999.9, 2999.0, 2499.9, 199.9, 308.66, 429.9, 299.29, 849.0, 1199.89, 1999.9, 3999.0] \n",
            "Chromosome:  ['1', '1', '0', '1', '0', '1', '0', '1', '0', '0', '0', '0', '1', '1'] \n",
            "Score:  16006.38 \n",
            "\n",
            "Individual:  6 \n",
            "Spaces:  [0.751, 8.99e-06, 0.4, 0.29, 0.2, 0.0035, 0.496, 0.0424, 0.0544, 0.0319, 0.635, 0.87, 0.498, 0.527] \n",
            "Prices:  [999.9, 2199.12, 4346.99, 3999.9, 2999.0, 2499.9, 199.9, 308.66, 429.9, 299.29, 849.0, 1199.89, 1999.9, 3999.0] \n",
            "Chromosome:  ['1', '1', '1', '1', '0', '1', '1', '1', '0', '1', '1', '0', '0', '0'] \n",
            "Score:  15702.66 \n",
            "\n",
            "Individual:  7 \n",
            "Spaces:  [0.751, 8.99e-06, 0.4, 0.29, 0.2, 0.0035, 0.496, 0.0424, 0.0544, 0.0319, 0.635, 0.87, 0.498, 0.527] \n",
            "Prices:  [999.9, 2199.12, 4346.99, 3999.9, 2999.0, 2499.9, 199.9, 308.66, 429.9, 299.29, 849.0, 1199.89, 1999.9, 3999.0] \n",
            "Chromosome:  ['1', '1', '0', '1', '0', '1', '0', '0', '0', '0', '0', '1', '1', '0'] \n",
            "Score:  12898.609999999999 \n",
            "\n",
            "Individual:  8 \n",
            "Spaces:  [0.751, 8.99e-06, 0.4, 0.29, 0.2, 0.0035, 0.496, 0.0424, 0.0544, 0.0319, 0.635, 0.87, 0.498, 0.527] \n",
            "Prices:  [999.9, 2199.12, 4346.99, 3999.9, 2999.0, 2499.9, 199.9, 308.66, 429.9, 299.29, 849.0, 1199.89, 1999.9, 3999.0] \n",
            "Chromosome:  ['1', '0', '1', '1', '1', '0', '0', '1', '0', '0', '0', '0', '0', '0'] \n",
            "Score:  12654.449999999999 \n",
            "\n",
            "Individual:  9 \n",
            "Spaces:  [0.751, 8.99e-06, 0.4, 0.29, 0.2, 0.0035, 0.496, 0.0424, 0.0544, 0.0319, 0.635, 0.87, 0.498, 0.527] \n",
            "Prices:  [999.9, 2199.12, 4346.99, 3999.9, 2999.0, 2499.9, 199.9, 308.66, 429.9, 299.29, 849.0, 1199.89, 1999.9, 3999.0] \n",
            "Chromosome:  ['1', '0', '0', '1', '1', '1', '0', '1', '1', '1', '1', '0', '0', '0'] \n",
            "Score:  12385.550000000001 \n",
            "\n",
            "Individual:  10 \n",
            "Spaces:  [0.751, 8.99e-06, 0.4, 0.29, 0.2, 0.0035, 0.496, 0.0424, 0.0544, 0.0319, 0.635, 0.87, 0.498, 0.527] \n",
            "Prices:  [999.9, 2199.12, 4346.99, 3999.9, 2999.0, 2499.9, 199.9, 308.66, 429.9, 299.29, 849.0, 1199.89, 1999.9, 3999.0] \n",
            "Chromosome:  ['1', '0', '0', '0', '1', '1', '0', '0', '0', '0', '0', '0', '0', '1'] \n",
            "Score:  10497.8 \n",
            "\n",
            "Individual:  11 \n",
            "Spaces:  [0.751, 8.99e-06, 0.4, 0.29, 0.2, 0.0035, 0.496, 0.0424, 0.0544, 0.0319, 0.635, 0.87, 0.498, 0.527] \n",
            "Prices:  [999.9, 2199.12, 4346.99, 3999.9, 2999.0, 2499.9, 199.9, 308.66, 429.9, 299.29, 849.0, 1199.89, 1999.9, 3999.0] \n",
            "Chromosome:  ['0', '1', '0', '1', '0', '0', '0', '1', '0', '0', '0', '1', '1', '0'] \n",
            "Score:  9707.470000000001 \n",
            "\n",
            "Individual:  12 \n",
            "Spaces:  [0.751, 8.99e-06, 0.4, 0.29, 0.2, 0.0035, 0.496, 0.0424, 0.0544, 0.0319, 0.635, 0.87, 0.498, 0.527] \n",
            "Prices:  [999.9, 2199.12, 4346.99, 3999.9, 2999.0, 2499.9, 199.9, 308.66, 429.9, 299.29, 849.0, 1199.89, 1999.9, 3999.0] \n",
            "Chromosome:  ['1', '1', '0', '0', '0', '1', '0', '1', '0', '1', '0', '1', '1', '0'] \n",
            "Score:  9506.66 \n",
            "\n",
            "Individual:  13 \n",
            "Spaces:  [0.751, 8.99e-06, 0.4, 0.29, 0.2, 0.0035, 0.496, 0.0424, 0.0544, 0.0319, 0.635, 0.87, 0.498, 0.527] \n",
            "Prices:  [999.9, 2199.12, 4346.99, 3999.9, 2999.0, 2499.9, 199.9, 308.66, 429.9, 299.29, 849.0, 1199.89, 1999.9, 3999.0] \n",
            "Chromosome:  ['1', '0', '1', '0', '1', '0', '1', '0', '1', '0', '0', '0', '0', '0'] \n",
            "Score:  8975.689999999999 \n",
            "\n",
            "Individual:  14 \n",
            "Spaces:  [0.751, 8.99e-06, 0.4, 0.29, 0.2, 0.0035, 0.496, 0.0424, 0.0544, 0.0319, 0.635, 0.87, 0.498, 0.527] \n",
            "Prices:  [999.9, 2199.12, 4346.99, 3999.9, 2999.0, 2499.9, 199.9, 308.66, 429.9, 299.29, 849.0, 1199.89, 1999.9, 3999.0] \n",
            "Chromosome:  ['1', '1', '0', '0', '0', '1', '0', '0', '0', '0', '1', '1', '0', '0'] \n",
            "Score:  7747.81 \n",
            "\n",
            "Individual:  15 \n",
            "Spaces:  [0.751, 8.99e-06, 0.4, 0.29, 0.2, 0.0035, 0.496, 0.0424, 0.0544, 0.0319, 0.635, 0.87, 0.498, 0.527] \n",
            "Prices:  [999.9, 2199.12, 4346.99, 3999.9, 2999.0, 2499.9, 199.9, 308.66, 429.9, 299.29, 849.0, 1199.89, 1999.9, 3999.0] \n",
            "Chromosome:  ['0', '0', '0', '1', '0', '0', '1', '0', '0', '0', '1', '0', '1', '0'] \n",
            "Score:  7048.700000000001 \n",
            "\n",
            "Individual:  16 \n",
            "Spaces:  [0.751, 8.99e-06, 0.4, 0.29, 0.2, 0.0035, 0.496, 0.0424, 0.0544, 0.0319, 0.635, 0.87, 0.498, 0.527] \n",
            "Prices:  [999.9, 2199.12, 4346.99, 3999.9, 2999.0, 2499.9, 199.9, 308.66, 429.9, 299.29, 849.0, 1199.89, 1999.9, 3999.0] \n",
            "Chromosome:  ['1', '0', '0', '0', '0', '1', '1', '0', '1', '0', '1', '0', '0', '0'] \n",
            "Score:  4978.6 \n",
            "\n",
            "Individual:  17 \n",
            "Spaces:  [0.751, 8.99e-06, 0.4, 0.29, 0.2, 0.0035, 0.496, 0.0424, 0.0544, 0.0319, 0.635, 0.87, 0.498, 0.527] \n",
            "Prices:  [999.9, 2199.12, 4346.99, 3999.9, 2999.0, 2499.9, 199.9, 308.66, 429.9, 299.29, 849.0, 1199.89, 1999.9, 3999.0] \n",
            "Chromosome:  ['1', '1', '0', '1', '1', '0', '0', '1', '1', '1', '1', '0', '1', '1'] \n",
            "Score:  1 \n",
            "\n",
            "Individual:  18 \n",
            "Spaces:  [0.751, 8.99e-06, 0.4, 0.29, 0.2, 0.0035, 0.496, 0.0424, 0.0544, 0.0319, 0.635, 0.87, 0.498, 0.527] \n",
            "Prices:  [999.9, 2199.12, 4346.99, 3999.9, 2999.0, 2499.9, 199.9, 308.66, 429.9, 299.29, 849.0, 1199.89, 1999.9, 3999.0] \n",
            "Chromosome:  ['1', '0', '0', '1', '1', '1', '1', '1', '0', '1', '0', '1', '0', '1'] \n",
            "Score:  1 \n",
            "\n",
            "Individual:  19 \n",
            "Spaces:  [0.751, 8.99e-06, 0.4, 0.29, 0.2, 0.0035, 0.496, 0.0424, 0.0544, 0.0319, 0.635, 0.87, 0.498, 0.527] \n",
            "Prices:  [999.9, 2199.12, 4346.99, 3999.9, 2999.0, 2499.9, 199.9, 308.66, 429.9, 299.29, 849.0, 1199.89, 1999.9, 3999.0] \n",
            "Chromosome:  ['1', '0', '0', '0', '0', '1', '1', '1', '0', '0', '1', '1', '1', '0'] \n",
            "Score:  1 \n",
            "\n"
          ]
        }
      ]
    },
    {
      "cell_type": "code",
      "metadata": {
        "colab": {
          "base_uri": "https://localhost:8080/"
        },
        "id": "dlWa8YOdSqNU",
        "outputId": "6da79998-d122-47fa-b372-8b44946a30e1"
      },
      "source": [
        "ga.best_solution.score_evaluation"
      ],
      "execution_count": 32,
      "outputs": [
        {
          "output_type": "execute_result",
          "data": {
            "text/plain": [
              "16784.239999999998"
            ]
          },
          "metadata": {},
          "execution_count": 32
        }
      ]
    },
    {
      "cell_type": "code",
      "metadata": {
        "colab": {
          "base_uri": "https://localhost:8080/"
        },
        "id": "1xAsh8QWS46R",
        "outputId": "7911ffc9-d28c-4896-d3cc-8cd2f7a0d423"
      },
      "source": [
        "ga.population[0].score_evaluation"
      ],
      "execution_count": 33,
      "outputs": [
        {
          "output_type": "execute_result",
          "data": {
            "text/plain": [
              "21343.87"
            ]
          },
          "metadata": {},
          "execution_count": 33
        }
      ]
    },
    {
      "cell_type": "code",
      "metadata": {
        "id": "oa2O2UxOTB5H"
      },
      "source": [
        "ga.best_individual(ga.population[0])"
      ],
      "execution_count": 34,
      "outputs": []
    },
    {
      "cell_type": "code",
      "metadata": {
        "colab": {
          "base_uri": "https://localhost:8080/"
        },
        "id": "FSmKFJSiTKn7",
        "outputId": "6b50de8b-bb49-45fc-fa5c-9afcf224830a"
      },
      "source": [
        "ga.best_solution.score_evaluation"
      ],
      "execution_count": 35,
      "outputs": [
        {
          "output_type": "execute_result",
          "data": {
            "text/plain": [
              "21343.87"
            ]
          },
          "metadata": {},
          "execution_count": 35
        }
      ]
    },
    {
      "cell_type": "code",
      "metadata": {
        "colab": {
          "base_uri": "https://localhost:8080/"
        },
        "id": "6yTXZoz-TYdv",
        "outputId": "dd997270-e1aa-4efc-ca67-79617dad97d5"
      },
      "source": [
        "ga.best_solution.chromosome"
      ],
      "execution_count": 36,
      "outputs": [
        {
          "output_type": "execute_result",
          "data": {
            "text/plain": [
              "['0', '0', '1', '1', '1', '1', '0', '0', '0', '1', '0', '1', '1', '1']"
            ]
          },
          "metadata": {},
          "execution_count": 36
        }
      ]
    },
    {
      "cell_type": "code",
      "metadata": {
        "colab": {
          "base_uri": "https://localhost:8080/"
        },
        "id": "XEjr-4e-VStp",
        "outputId": "b8568e98-89ef-449b-b4aa-0b9db1d67daf"
      },
      "source": [
        "sum = ga.sum_evaluations()\n",
        "print('Sum of evaluations: ', sum)"
      ],
      "execution_count": 37,
      "outputs": [
        {
          "output_type": "stream",
          "name": "stdout",
          "text": [
            "Sum of evaluations:  217748.2\n"
          ]
        }
      ]
    },
    {
      "cell_type": "code",
      "metadata": {
        "colab": {
          "base_uri": "https://localhost:8080/"
        },
        "id": "IMRAwHpDaRBs",
        "outputId": "f343e626-3943-4770-ddb4-ae5c23c6b666"
      },
      "source": [
        "random() * sum"
      ],
      "execution_count": 38,
      "outputs": [
        {
          "output_type": "execute_result",
          "data": {
            "text/plain": [
              "53391.6248197029"
            ]
          },
          "metadata": {},
          "execution_count": 38
        }
      ]
    },
    {
      "cell_type": "code",
      "metadata": {
        "colab": {
          "base_uri": "https://localhost:8080/"
        },
        "id": "69FZ2JR6b_j0",
        "outputId": "bb5380fd-84e5-40bf-808c-b8e977be201c"
      },
      "source": [
        "parent1 = ga.select_parent(sum)\n",
        "parent1"
      ],
      "execution_count": 39,
      "outputs": [
        {
          "output_type": "execute_result",
          "data": {
            "text/plain": [
              "4"
            ]
          },
          "metadata": {},
          "execution_count": 39
        }
      ]
    },
    {
      "cell_type": "code",
      "metadata": {
        "colab": {
          "base_uri": "https://localhost:8080/"
        },
        "id": "BVuqaTNVdthx",
        "outputId": "b15d3d7c-d456-4632-f5c7-c8e0772815b6"
      },
      "source": [
        "parent2 = ga.select_parent(sum)\n",
        "parent2"
      ],
      "execution_count": 40,
      "outputs": [
        {
          "output_type": "execute_result",
          "data": {
            "text/plain": [
              "5"
            ]
          },
          "metadata": {},
          "execution_count": 40
        }
      ]
    },
    {
      "cell_type": "code",
      "metadata": {
        "colab": {
          "base_uri": "https://localhost:8080/"
        },
        "id": "RVjNdW2YgXxS",
        "outputId": "4e9240ff-ce60-4cdd-a2ba-a18662c65ba5"
      },
      "source": [
        "new_population = []\n",
        "mutation_probability = 0.01\n",
        "for new_individuals in range(0, ga.population_size, 2):\n",
        "  #print(new_individuals)\n",
        "  parent1 = ga.select_parent(sum)\n",
        "  parent2 = ga.select_parent(sum)\n",
        "  print('\\n', parent1, parent2)\n",
        "  children = ga.population[parent1].crossover(ga.population[parent2])\n",
        "  print(ga.population[parent1].chromosome)\n",
        "  print(ga.population[parent2].chromosome)\n",
        "  print(children[0].chromosome)\n",
        "  print(children[1].chromosome)\n",
        "\n",
        "  new_population.append(children[0].mutation(mutation_probability))\n",
        "  new_population.append(children[1].mutation(mutation_probability))"
      ],
      "execution_count": 41,
      "outputs": [
        {
          "output_type": "stream",
          "name": "stdout",
          "text": [
            "\n",
            " 3 2\n",
            "['0', '1', '0', '1', '0', '1', '0', '1', '1', '0', '1', '0', '1', '1']\n",
            "['0', '0', '1', '1', '0', '1', '0', '1', '1', '0', '0', '1', '0', '1']\n",
            "['0', '0', '1', '1', '0', '1', '0', '1', '1', '0', '0', '1', '0', '1']\n",
            "['0', '1', '0', '1', '0', '1', '0', '1', '1', '0', '1', '0', '1', '1']\n",
            "\n",
            " 7 2\n",
            "['1', '1', '0', '1', '0', '1', '0', '0', '0', '0', '0', '1', '1', '0']\n",
            "['0', '0', '1', '1', '0', '1', '0', '1', '1', '0', '0', '1', '0', '1']\n",
            "['0', '0', '0', '1', '0', '1', '0', '0', '0', '0', '0', '1', '1', '0']\n",
            "['1', '1', '1', '1', '0', '1', '0', '1', '1', '0', '0', '1', '0', '1']\n",
            "\n",
            " 0 8\n",
            "['0', '0', '1', '1', '1', '1', '0', '0', '0', '1', '0', '1', '1', '1']\n",
            "['1', '0', '1', '1', '1', '0', '0', '1', '0', '0', '0', '0', '0', '0']\n",
            "['1', '0', '1', '1', '1', '1', '0', '0', '0', '1', '0', '1', '1', '1']\n",
            "['0', '0', '1', '1', '1', '0', '0', '1', '0', '0', '0', '0', '0', '0']\n",
            "\n",
            " 1 11\n",
            "['1', '1', '1', '1', '1', '1', '0', '0', '0', '0', '0', '0', '1', '0']\n",
            "['0', '1', '0', '1', '0', '0', '0', '1', '0', '0', '0', '1', '1', '0']\n",
            "['0', '1', '0', '1', '0', '0', '0', '1', '0', '0', '0', '0', '1', '0']\n",
            "['1', '1', '1', '1', '1', '1', '0', '0', '0', '0', '0', '1', '1', '0']\n",
            "\n",
            " 11 3\n",
            "['0', '1', '0', '1', '0', '0', '0', '1', '0', '0', '0', '1', '1', '0']\n",
            "['0', '1', '0', '1', '0', '1', '0', '1', '1', '0', '1', '0', '1', '1']\n",
            "['0', '1', '0', '1', '0', '1', '0', '1', '1', '0', '1', '0', '1', '0']\n",
            "['0', '1', '0', '1', '0', '0', '0', '1', '0', '0', '0', '1', '1', '1']\n",
            "\n",
            " 7 0\n",
            "['1', '1', '0', '1', '0', '1', '0', '0', '0', '0', '0', '1', '1', '0']\n",
            "['0', '0', '1', '1', '1', '1', '0', '0', '0', '1', '0', '1', '1', '1']\n",
            "['0', '1', '0', '1', '0', '1', '0', '0', '0', '0', '0', '1', '1', '0']\n",
            "['1', '0', '1', '1', '1', '1', '0', '0', '0', '1', '0', '1', '1', '1']\n",
            "\n",
            " 7 5\n",
            "['1', '1', '0', '1', '0', '1', '0', '0', '0', '0', '0', '1', '1', '0']\n",
            "['1', '1', '0', '1', '0', '1', '0', '1', '0', '0', '0', '0', '1', '1']\n",
            "['1', '1', '0', '1', '0', '1', '0', '0', '0', '0', '0', '1', '1', '0']\n",
            "['1', '1', '0', '1', '0', '1', '0', '1', '0', '0', '0', '0', '1', '1']\n",
            "\n",
            " 3 5\n",
            "['0', '1', '0', '1', '0', '1', '0', '1', '1', '0', '1', '0', '1', '1']\n",
            "['1', '1', '0', '1', '0', '1', '0', '1', '0', '0', '0', '0', '1', '1']\n",
            "['1', '1', '0', '1', '0', '1', '0', '1', '1', '0', '1', '0', '1', '1']\n",
            "['0', '1', '0', '1', '0', '1', '0', '1', '0', '0', '0', '0', '1', '1']\n",
            "\n",
            " 2 1\n",
            "['0', '0', '1', '1', '0', '1', '0', '1', '1', '0', '0', '1', '0', '1']\n",
            "['1', '1', '1', '1', '1', '1', '0', '0', '0', '0', '0', '0', '1', '0']\n",
            "['1', '1', '1', '1', '1', '1', '0', '0', '0', '0', '0', '1', '0', '1']\n",
            "['0', '0', '1', '1', '0', '1', '0', '1', '1', '0', '0', '0', '1', '0']\n",
            "\n",
            " 15 7\n",
            "['0', '0', '0', '1', '0', '0', '1', '0', '0', '0', '1', '0', '1', '0']\n",
            "['1', '1', '0', '1', '0', '1', '0', '0', '0', '0', '0', '1', '1', '0']\n",
            "['1', '1', '0', '1', '0', '0', '1', '0', '0', '0', '1', '0', '1', '0']\n",
            "['0', '0', '0', '1', '0', '1', '0', '0', '0', '0', '0', '1', '1', '0']\n"
          ]
        }
      ]
    },
    {
      "cell_type": "markdown",
      "metadata": {
        "id": "G_ia0U1OsQ7R"
      },
      "source": [
        "# Putting all together"
      ]
    },
    {
      "cell_type": "code",
      "metadata": {
        "colab": {
          "base_uri": "https://localhost:8080/"
        },
        "id": "oPz5to7bsS4-",
        "outputId": "584e19e2-618c-4fc5-ed0c-6e3543467cf8"
      },
      "source": [
        "products_list = []\n",
        "products_list.append(Product(\"Refrigerator A\", 0.751, 999.90))\n",
        "products_list.append(Product(\"Cell phone\", 0.0000899, 2911.12))\n",
        "products_list.append(Product(\"TV 55' \", 0.400, 4346.99))\n",
        "products_list.append(Product(\"TV 50' \", 0.290, 3999.90))\n",
        "products_list.append(Product(\"TV 42' \", 0.200, 2999.00))\n",
        "products_list.append(Product(\"Notebook A\", 0.00350, 2499.90))\n",
        "products_list.append(Product(\"Ventilator\", 0.496, 199.90))\n",
        "products_list.append(Product(\"Microwave A\", 0.0424, 308.66))\n",
        "products_list.append(Product(\"Microwave B\", 0.0544, 429.90))\n",
        "products_list.append(Product(\"Microwave C\", 0.0319, 299.29))\n",
        "products_list.append(Product(\"Refrigerator B\", 0.635, 849.00))\n",
        "products_list.append(Product(\"Refrigerator C\", 0.870, 1199.89))\n",
        "products_list.append(Product(\"Notebook B\", 0.498, 1999.90))\n",
        "products_list.append(Product(\"Notebook C\", 0.527, 3999.00))\n",
        "spaces = []\n",
        "prices = []\n",
        "names = []\n",
        "for product in products_list:\n",
        "  spaces.append(product.space)\n",
        "  prices.append(product.price)\n",
        "  names.append(product.name)\n",
        "limit = 3\n",
        "population_size = 20\n",
        "mutation_probability = 0.01\n",
        "number_of_generations = 100\n",
        "ga = GeneticAlgorithm(population_size)\n",
        "result = ga.solve(mutation_probability, number_of_generations, spaces, prices, limit)\n",
        "print(result)\n",
        "for i in range(len(products_list)):\n",
        "  if result[i] == '1':\n",
        "    print('Name: ', products_list[i].name, ' - Price: ', products_list[i].price)"
      ],
      "execution_count": 42,
      "outputs": [
        {
          "output_type": "stream",
          "name": "stdout",
          "text": [
            "Generation:  0 Total price:  21652.53 Space:  2.8628 Chromosome:  ['0', '0', '1', '1', '1', '1', '0', '1', '0', '1', '0', '1', '1', '1']\n",
            "Generation:  1 Total price:  1 Space:  3.4005899 Chromosome:  ['1', '1', '0', '1', '1', '1', '1', '0', '0', '0', '1', '0', '1', '1']\n",
            "Generation:  2 Total price:  16458.72 Space:  2.4495899 Chromosome:  ['0', '1', '0', '1', '0', '1', '1', '0', '0', '0', '1', '0', '1', '1']\n",
            "Generation:  3 Total price:  18693.79 Space:  2.0555 Chromosome:  ['0', '0', '1', '1', '1', '1', '0', '0', '0', '0', '1', '0', '0', '1']\n",
            "Generation:  4 Total price:  14458.82 Space:  1.9515899 Chromosome:  ['0', '1', '0', '1', '0', '1', '1', '0', '0', '0', '1', '0', '0', '1']\n",
            "Generation:  5 Total price:  17457.82 Space:  2.1515899 Chromosome:  ['0', '1', '0', '1', '1', '1', '1', '0', '0', '0', '1', '0', '0', '1']\n",
            "Generation:  6 Total price:  10697.880000000001 Space:  2.9659 Chromosome:  ['1', '0', '0', '1', '0', '0', '1', '0', '0', '1', '0', '1', '0', '1']\n",
            "Generation:  7 Total price:  18108.0 Space:  2.4184899 Chromosome:  ['0', '1', '0', '1', '1', '1', '1', '0', '0', '1', '0', '1', '0', '1']\n",
            "Generation:  8 Total price:  16917.48 Space:  1.5589898999999998 Chromosome:  ['0', '1', '0', '1', '1', '1', '1', '1', '0', '0', '0', '0', '0', '1']\n",
            "Generation:  9 Total price:  13909.11 Space:  1.3484899000000001 Chromosome:  ['0', '1', '0', '1', '0', '1', '1', '0', '0', '1', '0', '0', '0', '1']\n",
            "Generation:  10 Total price:  17804.91 Space:  2.2615898999999997 Chromosome:  ['0', '1', '1', '0', '1', '1', '1', '0', '0', '0', '1', '0', '0', '1']\n",
            "Generation:  11 Total price:  20955.81 Space:  1.9165899 Chromosome:  ['0', '1', '1', '1', '1', '1', '1', '0', '0', '0', '0', '0', '0', '1']\n",
            "Generation:  12 Total price:  16955.91 Space:  1.6265899 Chromosome:  ['0', '1', '1', '0', '1', '1', '1', '0', '0', '0', '0', '0', '0', '1']\n",
            "Generation:  13 Total price:  21264.47 Space:  1.9589898999999997 Chromosome:  ['0', '1', '1', '1', '1', '1', '1', '1', '0', '0', '0', '0', '0', '1']\n",
            "Generation:  14 Total price:  21264.47 Space:  1.9589898999999997 Chromosome:  ['0', '1', '1', '1', '1', '1', '1', '1', '0', '0', '0', '0', '0', '1']\n",
            "Generation:  15 Total price:  17457.82 Space:  2.1515899 Chromosome:  ['0', '1', '0', '1', '1', '1', '1', '0', '0', '0', '1', '0', '0', '1']\n",
            "Generation:  16 Total price:  9758.210000000001 Space:  1.3664899 Chromosome:  ['0', '1', '0', '0', '1', '1', '1', '0', '0', '1', '1', '0', '0', '0']\n",
            "Generation:  17 Total price:  22104.100000000002 Space:  2.5834899 Chromosome:  ['0', '1', '1', '1', '1', '1', '1', '0', '0', '1', '1', '0', '0', '1']\n",
            "Generation:  18 Total price:  13757.210000000001 Space:  1.8934899 Chromosome:  ['0', '1', '0', '0', '1', '1', '1', '0', '0', '1', '1', '0', '0', '1']\n",
            "Generation:  19 Total price:  20955.81 Space:  1.9165899 Chromosome:  ['0', '1', '1', '1', '1', '1', '1', '0', '0', '0', '0', '0', '0', '1']\n",
            "Generation:  20 Total price:  15855.26 Space:  2.9449 Chromosome:  ['1', '0', '0', '1', '1', '1', '1', '1', '0', '0', '1', '0', '0', '1']\n",
            "Generation:  21 Total price:  22104.100000000002 Space:  2.5834899 Chromosome:  ['0', '1', '1', '1', '1', '1', '1', '0', '0', '1', '1', '0', '0', '1']\n",
            "Generation:  22 Total price:  19192.98 Space:  2.5834 Chromosome:  ['0', '0', '1', '1', '1', '1', '1', '0', '0', '1', '1', '0', '0', '1']\n",
            "Generation:  23 Total price:  16956.81 Space:  1.3895898999999998 Chromosome:  ['0', '1', '1', '1', '1', '1', '1', '0', '0', '0', '0', '0', '0', '0']\n",
            "Generation:  24 Total price:  19192.98 Space:  2.5834 Chromosome:  ['0', '0', '1', '1', '1', '1', '1', '0', '0', '1', '1', '0', '0', '1']\n",
            "Generation:  25 Total price:  22104.100000000002 Space:  2.5834899 Chromosome:  ['0', '1', '1', '1', '1', '1', '1', '0', '0', '1', '1', '0', '0', '1']\n",
            "Generation:  26 Total price:  19056.100000000002 Space:  1.4234898999999999 Chromosome:  ['0', '1', '1', '1', '1', '1', '0', '0', '0', '1', '0', '0', '1', '0']\n",
            "Generation:  27 Total price:  22234.710000000003 Space:  2.6059899 Chromosome:  ['0', '1', '1', '1', '1', '1', '1', '0', '1', '0', '1', '0', '0', '1']\n",
            "Generation:  28 Total price:  22334.100000000002 Space:  2.1418899000000002 Chromosome:  ['0', '1', '1', '1', '1', '1', '0', '0', '1', '1', '1', '0', '0', '1']\n",
            "Generation:  29 Total price:  21255.100000000002 Space:  1.9484898999999998 Chromosome:  ['0', '1', '1', '1', '1', '1', '1', '0', '0', '1', '0', '0', '0', '1']\n",
            "Generation:  30 Total price:  15845.890000000001 Space:  2.9344 Chromosome:  ['1', '0', '0', '1', '1', '1', '1', '0', '0', '1', '1', '0', '0', '1']\n",
            "Generation:  31 Total price:  16956.81 Space:  1.3895898999999998 Chromosome:  ['0', '1', '1', '1', '1', '1', '1', '0', '0', '0', '0', '0', '0', '0']\n",
            "Generation:  32 Total price:  22104.100000000002 Space:  2.5834899 Chromosome:  ['0', '1', '1', '1', '1', '1', '1', '0', '0', '1', '1', '0', '0', '1']\n",
            "Generation:  33 Total price:  21385.710000000003 Space:  1.9709898999999997 Chromosome:  ['0', '1', '1', '1', '1', '1', '1', '0', '1', '0', '0', '0', '0', '1']\n",
            "Generation:  34 Total price:  20955.81 Space:  1.9165899 Chromosome:  ['0', '1', '1', '1', '1', '1', '1', '0', '0', '0', '0', '0', '0', '1']\n",
            "Generation:  35 Total price:  21685.000000000004 Space:  2.0028899 Chromosome:  ['0', '1', '1', '1', '1', '1', '1', '0', '1', '1', '0', '0', '0', '1']\n",
            "Generation:  36 Total price:  18474.589999999997 Space:  1.9708999999999999 Chromosome:  ['0', '0', '1', '1', '1', '1', '1', '0', '1', '0', '0', '0', '0', '1']\n",
            "Generation:  37 Total price:  21385.710000000003 Space:  1.9709898999999997 Chromosome:  ['0', '1', '1', '1', '1', '1', '1', '0', '1', '0', '0', '0', '0', '1']\n",
            "Generation:  38 Total price:  21955.710000000003 Space:  2.6675899000000003 Chromosome:  ['1', '1', '1', '1', '1', '1', '1', '0', '0', '0', '0', '0', '0', '1']\n",
            "Generation:  39 Total price:  20955.81 Space:  1.9165899 Chromosome:  ['0', '1', '1', '1', '1', '1', '1', '0', '0', '0', '0', '0', '0', '1']\n",
            "Generation:  40 Total price:  20955.81 Space:  1.9165899 Chromosome:  ['0', '1', '1', '1', '1', '1', '1', '0', '0', '0', '0', '0', '0', '1']\n",
            "Generation:  41 Total price:  20955.81 Space:  1.9165899 Chromosome:  ['0', '1', '1', '1', '1', '1', '1', '0', '0', '0', '0', '0', '0', '1']\n",
            "Generation:  42 Total price:  20955.81 Space:  1.9165899 Chromosome:  ['0', '1', '1', '1', '1', '1', '1', '0', '0', '0', '0', '0', '0', '1']\n",
            "Generation:  43 Total price:  21385.710000000003 Space:  1.9709898999999997 Chromosome:  ['0', '1', '1', '1', '1', '1', '1', '0', '1', '0', '0', '0', '0', '1']\n",
            "Generation:  44 Total price:  22385.610000000004 Space:  2.7219899 Chromosome:  ['1', '1', '1', '1', '1', '1', '1', '0', '1', '0', '0', '0', '0', '1']\n",
            "Generation:  45 Total price:  21385.710000000003 Space:  1.9709898999999997 Chromosome:  ['0', '1', '1', '1', '1', '1', '1', '0', '1', '0', '0', '0', '0', '1']\n",
            "Generation:  46 Total price:  16955.91 Space:  1.6265899 Chromosome:  ['0', '1', '1', '0', '1', '1', '1', '0', '0', '0', '0', '0', '0', '1']\n",
            "Generation:  47 Total price:  21385.710000000003 Space:  1.9709898999999997 Chromosome:  ['0', '1', '1', '1', '1', '1', '1', '0', '1', '0', '0', '0', '0', '1']\n",
            "Generation:  48 Total price:  18386.71 Space:  1.7709899 Chromosome:  ['0', '1', '1', '1', '0', '1', '1', '0', '1', '0', '0', '0', '0', '1']\n",
            "Generation:  49 Total price:  18585.699999999997 Space:  2.5509899 Chromosome:  ['0', '1', '1', '0', '1', '1', '1', '0', '1', '0', '0', '1', '0', '1']\n",
            "Generation:  50 Total price:  17386.710000000003 Space:  1.4439898999999998 Chromosome:  ['0', '1', '1', '1', '1', '1', '1', '0', '1', '0', '0', '0', '0', '0']\n",
            "Generation:  51 Total price:  21385.710000000003 Space:  1.9709898999999997 Chromosome:  ['0', '1', '1', '1', '1', '1', '1', '0', '1', '0', '0', '0', '0', '1']\n",
            "Generation:  52 Total price:  21385.710000000003 Space:  1.9709898999999997 Chromosome:  ['0', '1', '1', '1', '1', '1', '1', '0', '1', '0', '0', '0', '0', '1']\n",
            "Generation:  53 Total price:  21385.710000000003 Space:  1.9709898999999997 Chromosome:  ['0', '1', '1', '1', '1', '1', '1', '0', '1', '0', '0', '0', '0', '1']\n",
            "Generation:  54 Total price:  21385.710000000003 Space:  1.9709898999999997 Chromosome:  ['0', '1', '1', '1', '1', '1', '1', '0', '1', '0', '0', '0', '0', '1']\n",
            "Generation:  55 Total price:  21385.710000000003 Space:  1.9709898999999997 Chromosome:  ['0', '1', '1', '1', '1', '1', '1', '0', '1', '0', '0', '0', '0', '1']\n",
            "Generation:  56 Total price:  21685.000000000004 Space:  2.0028899 Chromosome:  ['0', '1', '1', '1', '1', '1', '1', '0', '1', '1', '0', '0', '0', '1']\n",
            "Generation:  57 Total price:  21385.710000000003 Space:  1.9709898999999997 Chromosome:  ['0', '1', '1', '1', '1', '1', '1', '0', '1', '0', '0', '0', '0', '1']\n",
            "Generation:  58 Total price:  18885.809999999998 Space:  1.9674899 Chromosome:  ['0', '1', '1', '1', '1', '0', '1', '0', '1', '0', '0', '0', '0', '1']\n",
            "Generation:  59 Total price:  18234.809999999998 Space:  2.3159899 Chromosome:  ['0', '1', '1', '0', '1', '1', '1', '0', '1', '0', '1', '0', '0', '1']\n",
            "Generation:  60 Total price:  21185.81 Space:  1.4749899 Chromosome:  ['0', '1', '1', '1', '1', '1', '0', '0', '1', '0', '0', '0', '0', '1']\n",
            "Generation:  61 Total price:  22234.710000000003 Space:  2.6059899 Chromosome:  ['0', '1', '1', '1', '1', '1', '1', '0', '1', '0', '1', '0', '0', '1']\n",
            "Generation:  62 Total price:  21385.710000000003 Space:  1.9709898999999997 Chromosome:  ['0', '1', '1', '1', '1', '1', '1', '0', '1', '0', '0', '0', '0', '1']\n",
            "Generation:  63 Total price:  21385.710000000003 Space:  1.9709898999999997 Chromosome:  ['0', '1', '1', '1', '1', '1', '1', '0', '1', '0', '0', '0', '0', '1']\n",
            "Generation:  64 Total price:  21385.710000000003 Space:  1.9709898999999997 Chromosome:  ['0', '1', '1', '1', '1', '1', '1', '0', '1', '0', '0', '0', '0', '1']\n",
            "Generation:  65 Total price:  21385.710000000003 Space:  1.9709898999999997 Chromosome:  ['0', '1', '1', '1', '1', '1', '1', '0', '1', '0', '0', '0', '0', '1']\n",
            "Generation:  66 Total price:  21385.710000000003 Space:  1.9709898999999997 Chromosome:  ['0', '1', '1', '1', '1', '1', '1', '0', '1', '0', '0', '0', '0', '1']\n",
            "Generation:  67 Total price:  21385.710000000003 Space:  1.9709898999999997 Chromosome:  ['0', '1', '1', '1', '1', '1', '1', '0', '1', '0', '0', '0', '0', '1']\n",
            "Generation:  68 Total price:  21385.710000000003 Space:  1.9709898999999997 Chromosome:  ['0', '1', '1', '1', '1', '1', '1', '0', '1', '0', '0', '0', '0', '1']\n",
            "Generation:  69 Total price:  21385.710000000003 Space:  1.9709898999999997 Chromosome:  ['0', '1', '1', '1', '1', '1', '1', '0', '1', '0', '0', '0', '0', '1']\n",
            "Generation:  70 Total price:  22234.710000000003 Space:  2.6059899 Chromosome:  ['0', '1', '1', '1', '1', '1', '1', '0', '1', '0', '1', '0', '0', '1']\n",
            "Generation:  71 Total price:  22234.710000000003 Space:  2.6059899 Chromosome:  ['0', '1', '1', '1', '1', '1', '1', '0', '1', '0', '1', '0', '0', '1']\n",
            "Generation:  72 Total price:  22234.710000000003 Space:  2.6059899 Chromosome:  ['0', '1', '1', '1', '1', '1', '1', '0', '1', '0', '1', '0', '0', '1']\n",
            "Generation:  73 Total price:  22234.710000000003 Space:  2.6059899 Chromosome:  ['0', '1', '1', '1', '1', '1', '1', '0', '1', '0', '1', '0', '0', '1']\n",
            "Generation:  74 Total price:  22234.710000000003 Space:  2.6059899 Chromosome:  ['0', '1', '1', '1', '1', '1', '1', '0', '1', '0', '1', '0', '0', '1']\n",
            "Generation:  75 Total price:  22234.710000000003 Space:  2.6059899 Chromosome:  ['0', '1', '1', '1', '1', '1', '1', '0', '1', '0', '1', '0', '0', '1']\n",
            "Generation:  76 Total price:  19323.589999999997 Space:  2.6059 Chromosome:  ['0', '0', '1', '1', '1', '1', '1', '0', '1', '0', '1', '0', '0', '1']\n",
            "Generation:  77 Total price:  22034.81 Space:  2.1099899 Chromosome:  ['0', '1', '1', '1', '1', '1', '0', '0', '1', '0', '1', '0', '0', '1']\n",
            "Generation:  78 Total price:  22234.710000000003 Space:  2.6059899 Chromosome:  ['0', '1', '1', '1', '1', '1', '1', '0', '1', '0', '1', '0', '0', '1']\n",
            "Generation:  79 Total price:  22034.81 Space:  2.1099899 Chromosome:  ['0', '1', '1', '1', '1', '1', '0', '0', '1', '0', '1', '0', '0', '1']\n",
            "Generation:  80 Total price:  19123.69 Space:  2.1099 Chromosome:  ['0', '0', '1', '1', '1', '1', '0', '0', '1', '0', '1', '0', '0', '1']\n",
            "Generation:  81 Total price:  22034.81 Space:  2.1099899 Chromosome:  ['0', '1', '1', '1', '1', '1', '0', '0', '1', '0', '1', '0', '0', '1']\n",
            "Generation:  82 Total price:  22234.710000000003 Space:  2.6059899 Chromosome:  ['0', '1', '1', '1', '1', '1', '1', '0', '1', '0', '1', '0', '0', '1']\n",
            "Generation:  83 Total price:  22034.81 Space:  2.1099899 Chromosome:  ['0', '1', '1', '1', '1', '1', '0', '0', '1', '0', '1', '0', '0', '1']\n",
            "Generation:  84 Total price:  22234.710000000003 Space:  2.6059899 Chromosome:  ['0', '1', '1', '1', '1', '1', '1', '0', '1', '0', '1', '0', '0', '1']\n",
            "Generation:  85 Total price:  22234.710000000003 Space:  2.6059899 Chromosome:  ['0', '1', '1', '1', '1', '1', '1', '0', '1', '0', '1', '0', '0', '1']\n",
            "Generation:  86 Total price:  22234.710000000003 Space:  2.6059899 Chromosome:  ['0', '1', '1', '1', '1', '1', '1', '0', '1', '0', '1', '0', '0', '1']\n",
            "Generation:  87 Total price:  22034.81 Space:  2.1099899 Chromosome:  ['0', '1', '1', '1', '1', '1', '0', '0', '1', '0', '1', '0', '0', '1']\n",
            "Generation:  88 Total price:  18234.809999999998 Space:  2.3159899 Chromosome:  ['0', '1', '1', '0', '1', '1', '1', '0', '1', '0', '1', '0', '0', '1']\n",
            "Generation:  89 Total price:  19035.809999999998 Space:  1.9099899000000002 Chromosome:  ['0', '1', '1', '1', '0', '1', '0', '0', '1', '0', '1', '0', '0', '1']\n",
            "Generation:  90 Total price:  18234.809999999998 Space:  2.3159899 Chromosome:  ['0', '1', '1', '0', '1', '1', '1', '0', '1', '0', '1', '0', '0', '1']\n",
            "Generation:  91 Total price:  22234.710000000003 Space:  2.6059899 Chromosome:  ['0', '1', '1', '1', '1', '1', '1', '0', '1', '0', '1', '0', '0', '1']\n",
            "Generation:  92 Total price:  22234.710000000003 Space:  2.6059899 Chromosome:  ['0', '1', '1', '1', '1', '1', '1', '0', '1', '0', '1', '0', '0', '1']\n",
            "Generation:  93 Total price:  22234.710000000003 Space:  2.6059899 Chromosome:  ['0', '1', '1', '1', '1', '1', '1', '0', '1', '0', '1', '0', '0', '1']\n",
            "Generation:  94 Total price:  22234.710000000003 Space:  2.6059899 Chromosome:  ['0', '1', '1', '1', '1', '1', '1', '0', '1', '0', '1', '0', '0', '1']\n",
            "Generation:  95 Total price:  20234.71 Space:  2.8139899 Chromosome:  ['0', '1', '1', '0', '1', '1', '1', '0', '1', '0', '1', '0', '1', '1']\n",
            "Generation:  96 Total price:  22034.81 Space:  2.1099899 Chromosome:  ['0', '1', '1', '1', '1', '1', '0', '0', '1', '0', '1', '0', '0', '1']\n",
            "Generation:  97 Total price:  22234.710000000003 Space:  2.6059899 Chromosome:  ['0', '1', '1', '1', '1', '1', '1', '0', '1', '0', '1', '0', '0', '1']\n",
            "Generation:  98 Total price:  19235.71 Space:  2.4059899000000002 Chromosome:  ['0', '1', '1', '1', '0', '1', '1', '0', '1', '0', '1', '0', '0', '1']\n",
            "Generation:  99 Total price:  22234.710000000003 Space:  2.6059899 Chromosome:  ['0', '1', '1', '1', '1', '1', '1', '0', '1', '0', '1', '0', '0', '1']\n",
            "Generation:  100 Total price:  22234.710000000003 Space:  2.6059899 Chromosome:  ['0', '1', '1', '1', '1', '1', '1', '0', '1', '0', '1', '0', '0', '1']\n",
            "**** Best solution - Generation:  44 Total price:  22385.610000000004 Space:  2.7219899 Chromosome:  ['1', '1', '1', '1', '1', '1', '1', '0', '1', '0', '0', '0', '0', '1']\n",
            "['1', '1', '1', '1', '1', '1', '1', '0', '1', '0', '0', '0', '0', '1']\n",
            "Name:  Refrigerator A  - Price:  999.9\n",
            "Name:  Cell phone  - Price:  2911.12\n",
            "Name:  TV 55'   - Price:  4346.99\n",
            "Name:  TV 50'   - Price:  3999.9\n",
            "Name:  TV 42'   - Price:  2999.0\n",
            "Name:  Notebook A  - Price:  2499.9\n",
            "Name:  Ventilator  - Price:  199.9\n",
            "Name:  Microwave B  - Price:  429.9\n",
            "Name:  Notebook C  - Price:  3999.0\n"
          ]
        }
      ]
    },
    {
      "cell_type": "code",
      "metadata": {
        "id": "xdVKmGjexcnv",
        "outputId": "90e93518-0512-4398-b126-c860f8c0942d",
        "colab": {
          "base_uri": "https://localhost:8080/"
        }
      },
      "source": [
        "for value in ga.list_of_solutions:\n",
        "  print(value)"
      ],
      "execution_count": 43,
      "outputs": [
        {
          "output_type": "stream",
          "name": "stdout",
          "text": [
            "21652.53\n",
            "1\n",
            "16458.72\n",
            "18693.79\n",
            "14458.82\n",
            "17457.82\n",
            "10697.880000000001\n",
            "18108.0\n",
            "16917.48\n",
            "13909.11\n",
            "17804.91\n",
            "20955.81\n",
            "16955.91\n",
            "21264.47\n",
            "21264.47\n",
            "17457.82\n",
            "9758.210000000001\n",
            "22104.100000000002\n",
            "13757.210000000001\n",
            "20955.81\n",
            "15855.26\n",
            "22104.100000000002\n",
            "19192.98\n",
            "16956.81\n",
            "19192.98\n",
            "22104.100000000002\n",
            "19056.100000000002\n",
            "22234.710000000003\n",
            "22334.100000000002\n",
            "21255.100000000002\n",
            "15845.890000000001\n",
            "16956.81\n",
            "22104.100000000002\n",
            "21385.710000000003\n",
            "20955.81\n",
            "21685.000000000004\n",
            "18474.589999999997\n",
            "21385.710000000003\n",
            "21955.710000000003\n",
            "20955.81\n",
            "20955.81\n",
            "20955.81\n",
            "20955.81\n",
            "21385.710000000003\n",
            "22385.610000000004\n",
            "21385.710000000003\n",
            "16955.91\n",
            "21385.710000000003\n",
            "18386.71\n",
            "18585.699999999997\n",
            "17386.710000000003\n",
            "21385.710000000003\n",
            "21385.710000000003\n",
            "21385.710000000003\n",
            "21385.710000000003\n",
            "21385.710000000003\n",
            "21685.000000000004\n",
            "21385.710000000003\n",
            "18885.809999999998\n",
            "18234.809999999998\n",
            "21185.81\n",
            "22234.710000000003\n",
            "21385.710000000003\n",
            "21385.710000000003\n",
            "21385.710000000003\n",
            "21385.710000000003\n",
            "21385.710000000003\n",
            "21385.710000000003\n",
            "21385.710000000003\n",
            "21385.710000000003\n",
            "22234.710000000003\n",
            "22234.710000000003\n",
            "22234.710000000003\n",
            "22234.710000000003\n",
            "22234.710000000003\n",
            "22234.710000000003\n",
            "19323.589999999997\n",
            "22034.81\n",
            "22234.710000000003\n",
            "22034.81\n",
            "19123.69\n",
            "22034.81\n",
            "22234.710000000003\n",
            "22034.81\n",
            "22234.710000000003\n",
            "22234.710000000003\n",
            "22234.710000000003\n",
            "22034.81\n",
            "18234.809999999998\n",
            "19035.809999999998\n",
            "18234.809999999998\n",
            "22234.710000000003\n",
            "22234.710000000003\n",
            "22234.710000000003\n",
            "22234.710000000003\n",
            "20234.71\n",
            "22034.81\n",
            "22234.710000000003\n",
            "19235.71\n",
            "22234.710000000003\n",
            "22234.710000000003\n"
          ]
        }
      ]
    },
    {
      "cell_type": "code",
      "metadata": {
        "colab": {
          "base_uri": "https://localhost:8080/",
          "height": 0
        },
        "id": "iaifYM4Pxm-m",
        "outputId": "af779bb5-e18c-4a08-ec97-1699c06a65d7"
      },
      "source": [
        "import plotly.express as px\n",
        "figure = px.line(x = range(0,101), y = ga.list_of_solutions, title = 'Genetic algorithm results')\n",
        "figure.show()"
      ],
      "execution_count": 44,
      "outputs": [
        {
          "output_type": "display_data",
          "data": {
            "text/html": [
              "<html>\n",
              "<head><meta charset=\"utf-8\" /></head>\n",
              "<body>\n",
              "    <div>            <script src=\"https://cdnjs.cloudflare.com/ajax/libs/mathjax/2.7.5/MathJax.js?config=TeX-AMS-MML_SVG\"></script><script type=\"text/javascript\">if (window.MathJax) {MathJax.Hub.Config({SVG: {font: \"STIX-Web\"}});}</script>                <script type=\"text/javascript\">window.PlotlyConfig = {MathJaxConfig: 'local'};</script>\n",
              "        <script src=\"https://cdn.plot.ly/plotly-2.8.3.min.js\"></script>                <div id=\"ac6717c1-5883-4654-a7e6-4be84273b8c7\" class=\"plotly-graph-div\" style=\"height:525px; width:100%;\"></div>            <script type=\"text/javascript\">                                    window.PLOTLYENV=window.PLOTLYENV || {};                                    if (document.getElementById(\"ac6717c1-5883-4654-a7e6-4be84273b8c7\")) {                    Plotly.newPlot(                        \"ac6717c1-5883-4654-a7e6-4be84273b8c7\",                        [{\"hovertemplate\":\"x=%{x}<br>y=%{y}<extra></extra>\",\"legendgroup\":\"\",\"line\":{\"color\":\"#636efa\",\"dash\":\"solid\"},\"marker\":{\"symbol\":\"circle\"},\"mode\":\"lines\",\"name\":\"\",\"orientation\":\"v\",\"showlegend\":false,\"x\":[0,1,2,3,4,5,6,7,8,9,10,11,12,13,14,15,16,17,18,19,20,21,22,23,24,25,26,27,28,29,30,31,32,33,34,35,36,37,38,39,40,41,42,43,44,45,46,47,48,49,50,51,52,53,54,55,56,57,58,59,60,61,62,63,64,65,66,67,68,69,70,71,72,73,74,75,76,77,78,79,80,81,82,83,84,85,86,87,88,89,90,91,92,93,94,95,96,97,98,99,100],\"xaxis\":\"x\",\"y\":[21652.53,1.0,16458.72,18693.79,14458.82,17457.82,10697.880000000001,18108.0,16917.48,13909.11,17804.91,20955.81,16955.91,21264.47,21264.47,17457.82,9758.210000000001,22104.100000000002,13757.210000000001,20955.81,15855.26,22104.100000000002,19192.98,16956.81,19192.98,22104.100000000002,19056.100000000002,22234.710000000003,22334.100000000002,21255.100000000002,15845.890000000001,16956.81,22104.100000000002,21385.710000000003,20955.81,21685.000000000004,18474.589999999997,21385.710000000003,21955.710000000003,20955.81,20955.81,20955.81,20955.81,21385.710000000003,22385.610000000004,21385.710000000003,16955.91,21385.710000000003,18386.71,18585.699999999997,17386.710000000003,21385.710000000003,21385.710000000003,21385.710000000003,21385.710000000003,21385.710000000003,21685.000000000004,21385.710000000003,18885.809999999998,18234.809999999998,21185.81,22234.710000000003,21385.710000000003,21385.710000000003,21385.710000000003,21385.710000000003,21385.710000000003,21385.710000000003,21385.710000000003,21385.710000000003,22234.710000000003,22234.710000000003,22234.710000000003,22234.710000000003,22234.710000000003,22234.710000000003,19323.589999999997,22034.81,22234.710000000003,22034.81,19123.69,22034.81,22234.710000000003,22034.81,22234.710000000003,22234.710000000003,22234.710000000003,22034.81,18234.809999999998,19035.809999999998,18234.809999999998,22234.710000000003,22234.710000000003,22234.710000000003,22234.710000000003,20234.71,22034.81,22234.710000000003,19235.71,22234.710000000003,22234.710000000003],\"yaxis\":\"y\",\"type\":\"scatter\"}],                        {\"template\":{\"data\":{\"bar\":[{\"error_x\":{\"color\":\"#2a3f5f\"},\"error_y\":{\"color\":\"#2a3f5f\"},\"marker\":{\"line\":{\"color\":\"#E5ECF6\",\"width\":0.5},\"pattern\":{\"fillmode\":\"overlay\",\"size\":10,\"solidity\":0.2}},\"type\":\"bar\"}],\"barpolar\":[{\"marker\":{\"line\":{\"color\":\"#E5ECF6\",\"width\":0.5},\"pattern\":{\"fillmode\":\"overlay\",\"size\":10,\"solidity\":0.2}},\"type\":\"barpolar\"}],\"carpet\":[{\"aaxis\":{\"endlinecolor\":\"#2a3f5f\",\"gridcolor\":\"white\",\"linecolor\":\"white\",\"minorgridcolor\":\"white\",\"startlinecolor\":\"#2a3f5f\"},\"baxis\":{\"endlinecolor\":\"#2a3f5f\",\"gridcolor\":\"white\",\"linecolor\":\"white\",\"minorgridcolor\":\"white\",\"startlinecolor\":\"#2a3f5f\"},\"type\":\"carpet\"}],\"choropleth\":[{\"colorbar\":{\"outlinewidth\":0,\"ticks\":\"\"},\"type\":\"choropleth\"}],\"contour\":[{\"colorbar\":{\"outlinewidth\":0,\"ticks\":\"\"},\"colorscale\":[[0.0,\"#0d0887\"],[0.1111111111111111,\"#46039f\"],[0.2222222222222222,\"#7201a8\"],[0.3333333333333333,\"#9c179e\"],[0.4444444444444444,\"#bd3786\"],[0.5555555555555556,\"#d8576b\"],[0.6666666666666666,\"#ed7953\"],[0.7777777777777778,\"#fb9f3a\"],[0.8888888888888888,\"#fdca26\"],[1.0,\"#f0f921\"]],\"type\":\"contour\"}],\"contourcarpet\":[{\"colorbar\":{\"outlinewidth\":0,\"ticks\":\"\"},\"type\":\"contourcarpet\"}],\"heatmap\":[{\"colorbar\":{\"outlinewidth\":0,\"ticks\":\"\"},\"colorscale\":[[0.0,\"#0d0887\"],[0.1111111111111111,\"#46039f\"],[0.2222222222222222,\"#7201a8\"],[0.3333333333333333,\"#9c179e\"],[0.4444444444444444,\"#bd3786\"],[0.5555555555555556,\"#d8576b\"],[0.6666666666666666,\"#ed7953\"],[0.7777777777777778,\"#fb9f3a\"],[0.8888888888888888,\"#fdca26\"],[1.0,\"#f0f921\"]],\"type\":\"heatmap\"}],\"heatmapgl\":[{\"colorbar\":{\"outlinewidth\":0,\"ticks\":\"\"},\"colorscale\":[[0.0,\"#0d0887\"],[0.1111111111111111,\"#46039f\"],[0.2222222222222222,\"#7201a8\"],[0.3333333333333333,\"#9c179e\"],[0.4444444444444444,\"#bd3786\"],[0.5555555555555556,\"#d8576b\"],[0.6666666666666666,\"#ed7953\"],[0.7777777777777778,\"#fb9f3a\"],[0.8888888888888888,\"#fdca26\"],[1.0,\"#f0f921\"]],\"type\":\"heatmapgl\"}],\"histogram\":[{\"marker\":{\"pattern\":{\"fillmode\":\"overlay\",\"size\":10,\"solidity\":0.2}},\"type\":\"histogram\"}],\"histogram2d\":[{\"colorbar\":{\"outlinewidth\":0,\"ticks\":\"\"},\"colorscale\":[[0.0,\"#0d0887\"],[0.1111111111111111,\"#46039f\"],[0.2222222222222222,\"#7201a8\"],[0.3333333333333333,\"#9c179e\"],[0.4444444444444444,\"#bd3786\"],[0.5555555555555556,\"#d8576b\"],[0.6666666666666666,\"#ed7953\"],[0.7777777777777778,\"#fb9f3a\"],[0.8888888888888888,\"#fdca26\"],[1.0,\"#f0f921\"]],\"type\":\"histogram2d\"}],\"histogram2dcontour\":[{\"colorbar\":{\"outlinewidth\":0,\"ticks\":\"\"},\"colorscale\":[[0.0,\"#0d0887\"],[0.1111111111111111,\"#46039f\"],[0.2222222222222222,\"#7201a8\"],[0.3333333333333333,\"#9c179e\"],[0.4444444444444444,\"#bd3786\"],[0.5555555555555556,\"#d8576b\"],[0.6666666666666666,\"#ed7953\"],[0.7777777777777778,\"#fb9f3a\"],[0.8888888888888888,\"#fdca26\"],[1.0,\"#f0f921\"]],\"type\":\"histogram2dcontour\"}],\"mesh3d\":[{\"colorbar\":{\"outlinewidth\":0,\"ticks\":\"\"},\"type\":\"mesh3d\"}],\"parcoords\":[{\"line\":{\"colorbar\":{\"outlinewidth\":0,\"ticks\":\"\"}},\"type\":\"parcoords\"}],\"pie\":[{\"automargin\":true,\"type\":\"pie\"}],\"scatter\":[{\"marker\":{\"colorbar\":{\"outlinewidth\":0,\"ticks\":\"\"}},\"type\":\"scatter\"}],\"scatter3d\":[{\"line\":{\"colorbar\":{\"outlinewidth\":0,\"ticks\":\"\"}},\"marker\":{\"colorbar\":{\"outlinewidth\":0,\"ticks\":\"\"}},\"type\":\"scatter3d\"}],\"scattercarpet\":[{\"marker\":{\"colorbar\":{\"outlinewidth\":0,\"ticks\":\"\"}},\"type\":\"scattercarpet\"}],\"scattergeo\":[{\"marker\":{\"colorbar\":{\"outlinewidth\":0,\"ticks\":\"\"}},\"type\":\"scattergeo\"}],\"scattergl\":[{\"marker\":{\"colorbar\":{\"outlinewidth\":0,\"ticks\":\"\"}},\"type\":\"scattergl\"}],\"scattermapbox\":[{\"marker\":{\"colorbar\":{\"outlinewidth\":0,\"ticks\":\"\"}},\"type\":\"scattermapbox\"}],\"scatterpolar\":[{\"marker\":{\"colorbar\":{\"outlinewidth\":0,\"ticks\":\"\"}},\"type\":\"scatterpolar\"}],\"scatterpolargl\":[{\"marker\":{\"colorbar\":{\"outlinewidth\":0,\"ticks\":\"\"}},\"type\":\"scatterpolargl\"}],\"scatterternary\":[{\"marker\":{\"colorbar\":{\"outlinewidth\":0,\"ticks\":\"\"}},\"type\":\"scatterternary\"}],\"surface\":[{\"colorbar\":{\"outlinewidth\":0,\"ticks\":\"\"},\"colorscale\":[[0.0,\"#0d0887\"],[0.1111111111111111,\"#46039f\"],[0.2222222222222222,\"#7201a8\"],[0.3333333333333333,\"#9c179e\"],[0.4444444444444444,\"#bd3786\"],[0.5555555555555556,\"#d8576b\"],[0.6666666666666666,\"#ed7953\"],[0.7777777777777778,\"#fb9f3a\"],[0.8888888888888888,\"#fdca26\"],[1.0,\"#f0f921\"]],\"type\":\"surface\"}],\"table\":[{\"cells\":{\"fill\":{\"color\":\"#EBF0F8\"},\"line\":{\"color\":\"white\"}},\"header\":{\"fill\":{\"color\":\"#C8D4E3\"},\"line\":{\"color\":\"white\"}},\"type\":\"table\"}]},\"layout\":{\"annotationdefaults\":{\"arrowcolor\":\"#2a3f5f\",\"arrowhead\":0,\"arrowwidth\":1},\"autotypenumbers\":\"strict\",\"coloraxis\":{\"colorbar\":{\"outlinewidth\":0,\"ticks\":\"\"}},\"colorscale\":{\"diverging\":[[0,\"#8e0152\"],[0.1,\"#c51b7d\"],[0.2,\"#de77ae\"],[0.3,\"#f1b6da\"],[0.4,\"#fde0ef\"],[0.5,\"#f7f7f7\"],[0.6,\"#e6f5d0\"],[0.7,\"#b8e186\"],[0.8,\"#7fbc41\"],[0.9,\"#4d9221\"],[1,\"#276419\"]],\"sequential\":[[0.0,\"#0d0887\"],[0.1111111111111111,\"#46039f\"],[0.2222222222222222,\"#7201a8\"],[0.3333333333333333,\"#9c179e\"],[0.4444444444444444,\"#bd3786\"],[0.5555555555555556,\"#d8576b\"],[0.6666666666666666,\"#ed7953\"],[0.7777777777777778,\"#fb9f3a\"],[0.8888888888888888,\"#fdca26\"],[1.0,\"#f0f921\"]],\"sequentialminus\":[[0.0,\"#0d0887\"],[0.1111111111111111,\"#46039f\"],[0.2222222222222222,\"#7201a8\"],[0.3333333333333333,\"#9c179e\"],[0.4444444444444444,\"#bd3786\"],[0.5555555555555556,\"#d8576b\"],[0.6666666666666666,\"#ed7953\"],[0.7777777777777778,\"#fb9f3a\"],[0.8888888888888888,\"#fdca26\"],[1.0,\"#f0f921\"]]},\"colorway\":[\"#636efa\",\"#EF553B\",\"#00cc96\",\"#ab63fa\",\"#FFA15A\",\"#19d3f3\",\"#FF6692\",\"#B6E880\",\"#FF97FF\",\"#FECB52\"],\"font\":{\"color\":\"#2a3f5f\"},\"geo\":{\"bgcolor\":\"white\",\"lakecolor\":\"white\",\"landcolor\":\"#E5ECF6\",\"showlakes\":true,\"showland\":true,\"subunitcolor\":\"white\"},\"hoverlabel\":{\"align\":\"left\"},\"hovermode\":\"closest\",\"mapbox\":{\"style\":\"light\"},\"paper_bgcolor\":\"white\",\"plot_bgcolor\":\"#E5ECF6\",\"polar\":{\"angularaxis\":{\"gridcolor\":\"white\",\"linecolor\":\"white\",\"ticks\":\"\"},\"bgcolor\":\"#E5ECF6\",\"radialaxis\":{\"gridcolor\":\"white\",\"linecolor\":\"white\",\"ticks\":\"\"}},\"scene\":{\"xaxis\":{\"backgroundcolor\":\"#E5ECF6\",\"gridcolor\":\"white\",\"gridwidth\":2,\"linecolor\":\"white\",\"showbackground\":true,\"ticks\":\"\",\"zerolinecolor\":\"white\"},\"yaxis\":{\"backgroundcolor\":\"#E5ECF6\",\"gridcolor\":\"white\",\"gridwidth\":2,\"linecolor\":\"white\",\"showbackground\":true,\"ticks\":\"\",\"zerolinecolor\":\"white\"},\"zaxis\":{\"backgroundcolor\":\"#E5ECF6\",\"gridcolor\":\"white\",\"gridwidth\":2,\"linecolor\":\"white\",\"showbackground\":true,\"ticks\":\"\",\"zerolinecolor\":\"white\"}},\"shapedefaults\":{\"line\":{\"color\":\"#2a3f5f\"}},\"ternary\":{\"aaxis\":{\"gridcolor\":\"white\",\"linecolor\":\"white\",\"ticks\":\"\"},\"baxis\":{\"gridcolor\":\"white\",\"linecolor\":\"white\",\"ticks\":\"\"},\"bgcolor\":\"#E5ECF6\",\"caxis\":{\"gridcolor\":\"white\",\"linecolor\":\"white\",\"ticks\":\"\"}},\"title\":{\"x\":0.05},\"xaxis\":{\"automargin\":true,\"gridcolor\":\"white\",\"linecolor\":\"white\",\"ticks\":\"\",\"title\":{\"standoff\":15},\"zerolinecolor\":\"white\",\"zerolinewidth\":2},\"yaxis\":{\"automargin\":true,\"gridcolor\":\"white\",\"linecolor\":\"white\",\"ticks\":\"\",\"title\":{\"standoff\":15},\"zerolinecolor\":\"white\",\"zerolinewidth\":2}}},\"xaxis\":{\"anchor\":\"y\",\"domain\":[0.0,1.0],\"title\":{\"text\":\"x\"}},\"yaxis\":{\"anchor\":\"x\",\"domain\":[0.0,1.0],\"title\":{\"text\":\"y\"}},\"legend\":{\"tracegroupgap\":0},\"title\":{\"text\":\"Genetic algorithm results\"}},                        {\"responsive\": true}                    ).then(function(){\n",
              "                            \n",
              "var gd = document.getElementById('ac6717c1-5883-4654-a7e6-4be84273b8c7');\n",
              "var x = new MutationObserver(function (mutations, observer) {{\n",
              "        var display = window.getComputedStyle(gd).display;\n",
              "        if (!display || display === 'none') {{\n",
              "            console.log([gd, 'removed!']);\n",
              "            Plotly.purge(gd);\n",
              "            observer.disconnect();\n",
              "        }}\n",
              "}});\n",
              "\n",
              "// Listen for the removal of the full notebook cells\n",
              "var notebookContainer = gd.closest('#notebook-container');\n",
              "if (notebookContainer) {{\n",
              "    x.observe(notebookContainer, {childList: true});\n",
              "}}\n",
              "\n",
              "// Listen for the clearing of the current output cell\n",
              "var outputEl = gd.closest('.output');\n",
              "if (outputEl) {{\n",
              "    x.observe(outputEl, {childList: true});\n",
              "}}\n",
              "\n",
              "                        })                };                            </script>        </div>\n",
              "</body>\n",
              "</html>"
            ]
          },
          "metadata": {}
        }
      ]
    },
    {
      "cell_type": "markdown",
      "metadata": {
        "id": "aM4ZkdnbxIKM"
      },
      "source": [
        "# DEAP library - transport of products\n",
        "\n",
        "- https://github.com/deap/deap"
      ]
    },
    {
      "cell_type": "code",
      "metadata": {
        "colab": {
          "base_uri": "https://localhost:8080/"
        },
        "id": "lNq6ksn8xLXr",
        "outputId": "545847cf-41b5-4034-a4da-a92f9de1c105"
      },
      "source": [
        "!pip install deap\n",
        "#pip install deap == 1.3.1"
      ],
      "execution_count": 45,
      "outputs": [
        {
          "output_type": "stream",
          "name": "stdout",
          "text": [
            "Looking in indexes: https://pypi.org/simple, https://us-python.pkg.dev/colab-wheels/public/simple/\n",
            "Collecting deap\n",
            "  Downloading deap-1.3.3-cp37-cp37m-manylinux_2_5_x86_64.manylinux1_x86_64.manylinux_2_17_x86_64.manylinux2014_x86_64.whl (139 kB)\n",
            "\u001b[K     |████████████████████████████████| 139 kB 4.1 MB/s \n",
            "\u001b[?25hRequirement already satisfied: numpy in /usr/local/lib/python3.7/dist-packages (from deap) (1.21.6)\n",
            "Installing collected packages: deap\n",
            "Successfully installed deap-1.3.3\n"
          ]
        }
      ]
    },
    {
      "cell_type": "code",
      "metadata": {
        "id": "MYG5NNrwynki"
      },
      "source": [
        "class Product():\n",
        "    def __init__(self, name, space, price):\n",
        "        self.name = name\n",
        "        self.space = space\n",
        "        self.price = price"
      ],
      "execution_count": 46,
      "outputs": []
    },
    {
      "cell_type": "code",
      "metadata": {
        "id": "9HDXDNffytUq"
      },
      "source": [
        "products_list = []\n",
        "products_list.append(Product(\"Refrigerator A\", 0.751, 999.90))\n",
        "products_list.append(Product(\"Cell phone\", 0.0000899, 2911.12))\n",
        "products_list.append(Product(\"TV 55' \", 0.400, 4346.99))\n",
        "products_list.append(Product(\"TV 50' \", 0.290, 3999.90))\n",
        "products_list.append(Product(\"TV 42' \", 0.200, 2999.00))\n",
        "products_list.append(Product(\"Notebook A\", 0.00350, 2499.90))\n",
        "products_list.append(Product(\"Ventilator\", 0.496, 199.90))\n",
        "products_list.append(Product(\"Microwave A\", 0.0424, 308.66))\n",
        "products_list.append(Product(\"Microwave B\", 0.0544, 429.90))\n",
        "products_list.append(Product(\"Microwave C\", 0.0319, 299.29))\n",
        "products_list.append(Product(\"Refrigerator B\", 0.635, 849.00))\n",
        "products_list.append(Product(\"Refrigerator C\", 0.870, 1199.89))\n",
        "products_list.append(Product(\"Notebook B\", 0.498, 1999.90))\n",
        "products_list.append(Product(\"Notebook C\", 0.527, 3999.00))\n",
        "spaces = []\n",
        "prices = []\n",
        "names = []\n",
        "for product in products_list:\n",
        "  spaces.append(product.space)\n",
        "  prices.append(product.price)\n",
        "  names.append(product.name)\n",
        "limit = 3\n",
        "population_size = 20\n",
        "mutation_probability = 0.01\n",
        "number_of_generations = 100 "
      ],
      "execution_count": 47,
      "outputs": []
    },
    {
      "cell_type": "code",
      "metadata": {
        "id": "ndSjWluCy4Sb"
      },
      "source": [
        "import numpy\n",
        "import random\n",
        "from deap import base\n",
        "from deap import creator\n",
        "from deap import algorithms\n",
        "from deap import tools"
      ],
      "execution_count": 48,
      "outputs": []
    },
    {
      "cell_type": "code",
      "metadata": {
        "id": "p_W4tiSZzGrs"
      },
      "source": [
        "# [0, 1, 1, 1, 1, 1, 0, 1, 1, 1, 0, 1, 1, 1]\n",
        "def fitness(solution):\n",
        "  cost = 0\n",
        "  sum_space = 0\n",
        "  for i in range(len(solution)):\n",
        "    if solution[i] == 1:\n",
        "      cost += prices[i]\n",
        "      sum_space += spaces[i]\n",
        "  if sum_space > limit:\n",
        "    cost = 1\n",
        "  return cost,"
      ],
      "execution_count": 49,
      "outputs": []
    },
    {
      "cell_type": "code",
      "metadata": {
        "id": "1x5JDwrtz1EI"
      },
      "source": [
        "toolbox = base.Toolbox()\n",
        "creator.create('FitnessMax', base.Fitness, weights=(1.0,))\n",
        "creator.create('Individual', list, fitness=creator.FitnessMax)"
      ],
      "execution_count": 50,
      "outputs": []
    },
    {
      "cell_type": "code",
      "metadata": {
        "id": "zSJgddwL0hbd"
      },
      "source": [
        "toolbox.register('attr_bool', random.randint, 0, 1)\n",
        "toolbox.register('individual', tools.initRepeat, creator.Individual, toolbox.attr_bool, n=14)\n",
        "toolbox.register('population', tools.initRepeat, list, toolbox.individual)\n",
        "toolbox.register('evaluate', fitness)\n",
        "toolbox.register('mate', tools.cxOnePoint)\n",
        "toolbox.register('mutate', tools.mutFlipBit, indpb = 0.01)\n",
        "toolbox.register('select', tools.selRoulette)"
      ],
      "execution_count": 51,
      "outputs": []
    },
    {
      "cell_type": "code",
      "metadata": {
        "colab": {
          "base_uri": "https://localhost:8080/"
        },
        "id": "9PDmxFSg3bKQ",
        "outputId": "34c71caf-7bc6-43fa-db84-9f52ac5d4bec"
      },
      "source": [
        "population = toolbox.population(n = 20)\n",
        "crossover_probability = 1.0\n",
        "number_of_generations = 100\n",
        "\n",
        "statistics = tools.Statistics(key = lambda individual: individual.fitness.values)\n",
        "statistics.register('max', numpy.max)\n",
        "statistics.register('min', numpy.min)\n",
        "statistics.register('med', numpy.mean)\n",
        "statistics.register('std', numpy.std)\n",
        "\n",
        "population, info = algorithms.eaSimple(population, toolbox, crossover_probability, mutation_probability,\n",
        "                                       number_of_generations, statistics)"
      ],
      "execution_count": 52,
      "outputs": [
        {
          "output_type": "stream",
          "name": "stdout",
          "text": [
            "gen\tnevals\tmax    \tmin\tmed    \tstd    \n",
            "0  \t20    \t16302.7\t1  \t8935.67\t4955.32\n",
            "1  \t20    \t20213.8\t5929.6\t11476.4\t2986.63\n",
            "2  \t20    \t17565.6\t5786.45\t11963.2\t2999.51\n",
            "3  \t20    \t21364.7\t1      \t11915.3\t4867.73\n",
            "4  \t20    \t18453.5\t1      \t13297.8\t4347.14\n",
            "5  \t20    \t18453.5\t6655.55\t13193.6\t3403.66\n",
            "6  \t20    \t20794.7\t1      \t12702.4\t5256.17\n",
            "7  \t20    \t20794.7\t8718.86\t14769.7\t3145.28\n",
            "8  \t20    \t20794.7\t7384.74\t15766.5\t3405.24\n",
            "9  \t20    \t20794.7\t1      \t14581.1\t4592.08\n",
            "10 \t20    \t19294.7\t10546.7\t16216.2\t2284.86\n",
            "11 \t20    \t18883.4\t13454.6\t15875.2\t1796.72\n",
            "12 \t20    \t20794.7\t11384.6\t16723.7\t2283.59\n",
            "13 \t20    \t20794.7\t11384.6\t16561.2\t2767.92\n",
            "14 \t20    \t20794.7\t1      \t16413.9\t5799.23\n",
            "15 \t20    \t20794.7\t12275.8\t17863  \t1979.05\n",
            "16 \t20    \t21794.6\t14884.4\t18532.4\t1470.69\n",
            "17 \t20    \t21794.6\t1      \t17691.1\t4245.55\n",
            "18 \t20    \t21794.6\t16845.7\t18324.1\t1282.96\n",
            "19 \t20    \t20794.7\t1      \t17480.2\t4155.74\n",
            "20 \t20    \t20794.7\t17045.6\t18425.3\t868.059\n",
            "21 \t20    \t20794.7\t1      \t17618.6\t4143.07\n",
            "22 \t20    \t20256  \t1      \t17520.3\t4078.24\n",
            "23 \t20    \t20364.8\t18045.5\t18616.6\t663.25 \n",
            "24 \t20    \t20364.8\t1      \t17663.6\t4090.29\n",
            "25 \t20    \t21056  \t17453.6\t18739.1\t894.18 \n",
            "26 \t20    \t21364.7\t17344.9\t18888.1\t1150.25\n",
            "27 \t20    \t21364.7\t18144.9\t19176.3\t1211.08\n",
            "28 \t20    \t21364.7\t1      \t18293.9\t4356.57\n",
            "29 \t20    \t21364.7\t18144.9\t18873.5\t1147.23\n",
            "30 \t20    \t21056  \t18144.9\t18481.4\t743.023\n",
            "31 \t20    \t20256  \t1      \t17755.3\t4149.74\n",
            "32 \t20    \t21255.9\t17344.9\t18792.6\t985.657\n",
            "33 \t20    \t21255.9\t17145  \t18988.2\t1302.24\n",
            "34 \t20    \t21255.9\t17145  \t18722.6\t1148.02\n",
            "35 \t20    \t21255.9\t17145  \t18808.2\t1432.12\n",
            "36 \t20    \t21255.9\t17145  \t19324.8\t1611.49\n",
            "37 \t20    \t21255.9\t17145  \t18983.7\t1564.63\n",
            "38 \t20    \t21255.9\t17145  \t18918.2\t1403.44\n",
            "39 \t20    \t21255.9\t18144.9\t19514.8\t1375.6 \n",
            "40 \t20    \t21255.9\t18144.9\t19736  \t1391.5 \n",
            "41 \t20    \t21255.9\t18144.9\t19484.8\t1395.54\n",
            "42 \t20    \t21056  \t18144.9\t19510.4\t1332.64\n",
            "43 \t20    \t21255.9\t18144.9\t19656  \t1349.41\n",
            "44 \t20    \t21255.9\t18144.9\t19530.4\t1392.03\n",
            "45 \t20    \t21255.9\t18144.9\t20032.7\t1275.51\n",
            "46 \t20    \t21255.9\t18144.9\t19831.5\t1364.61\n",
            "47 \t20    \t21255.9\t18144.9\t19871.5\t1387.99\n",
            "48 \t20    \t21255.9\t18144.9\t19444.9\t1416.65\n",
            "49 \t20    \t21255.9\t18144.9\t19816  \t1434.26\n",
            "50 \t20    \t21255.9\t18144.9\t19379.3\t1392.21\n",
            "51 \t20    \t21255.9\t18144.9\t19931.5\t1440.56\n",
            "52 \t20    \t21255.9\t18144.9\t19650.4\t1487.76\n",
            "53 \t20    \t21255.9\t18144.9\t20097.1\t1393.62\n",
            "54 \t20    \t21255.9\t18144.9\t20262.6\t1324.52\n",
            "55 \t20    \t21255.9\t18144.9\t19826  \t1463.55\n",
            "56 \t20    \t21255.9\t18144.9\t19730.4\t1526.9 \n",
            "57 \t20    \t21255.9\t18344.8\t20488.1\t1239.84\n",
            "58 \t20    \t21255.9\t18144.9\t20613.7\t1163.05\n",
            "59 \t20    \t21255.9\t18144.9\t20914.8\t894.039\n",
            "60 \t20    \t21255.9\t18344.8\t20924.8\t863.616\n",
            "61 \t20    \t21255.9\t18344.8\t21090.4\t632.71 \n",
            "62 \t20    \t21255.9\t21056  \t21225.9\t71.3786\n",
            "63 \t20    \t21255.9\t21056  \t21195.9\t91.6057\n",
            "64 \t20    \t21255.9\t21056  \t21195.9\t91.6057\n",
            "65 \t20    \t21255.9\t21056  \t21195.9\t91.6057\n",
            "66 \t20    \t21255.9\t21056  \t21195.9\t91.6057\n",
            "67 \t20    \t21255.9\t21056  \t21205.9\t86.5592\n",
            "68 \t20    \t21255.9\t21056  \t21195.9\t91.6057\n",
            "69 \t20    \t21255.9\t21056  \t21175.9\t97.9306\n",
            "70 \t20    \t21255.9\t21056  \t21205.9\t86.5592\n",
            "71 \t20    \t21255.9\t21056  \t21205.9\t86.5592\n",
            "72 \t20    \t21255.9\t21056  \t21165.9\t99.449 \n",
            "73 \t20    \t21255.9\t21056  \t21215.9\t79.96  \n",
            "74 \t20    \t21255.9\t21056  \t21215.9\t79.96  \n",
            "75 \t20    \t21255.9\t21056  \t21235.9\t59.97  \n",
            "76 \t20    \t21255.9\t21056  \t21225.9\t71.3786\n",
            "77 \t20    \t21255.9\t21056  \t21235.9\t59.97  \n",
            "78 \t20    \t21255.9\t21056  \t21245.9\t43.5672\n",
            "79 \t20    \t21255.9\t21056  \t21245.9\t43.5672\n",
            "80 \t20    \t21255.9\t21255.9\t21255.9\t3.63798e-12\n",
            "81 \t20    \t21255.9\t21255.9\t21255.9\t3.63798e-12\n",
            "82 \t20    \t21255.9\t21255.9\t21255.9\t3.63798e-12\n",
            "83 \t20    \t21255.9\t21255.9\t21255.9\t3.63798e-12\n",
            "84 \t20    \t21255.9\t1      \t20193.2\t4632.4     \n",
            "85 \t20    \t21255.9\t21255.9\t21255.9\t3.63798e-12\n",
            "86 \t20    \t21255.9\t21255.9\t21255.9\t3.63798e-12\n",
            "87 \t20    \t21255.9\t21255.9\t21255.9\t3.63798e-12\n",
            "88 \t20    \t21255.9\t21255.9\t21255.9\t3.63798e-12\n",
            "89 \t20    \t21255.9\t21255.9\t21255.9\t3.63798e-12\n",
            "90 \t20    \t21255.9\t21255.9\t21255.9\t3.63798e-12\n",
            "91 \t20    \t21255.9\t21255.9\t21255.9\t3.63798e-12\n",
            "92 \t20    \t21255.9\t21255.9\t21255.9\t3.63798e-12\n",
            "93 \t20    \t21255.9\t21255.9\t21255.9\t3.63798e-12\n",
            "94 \t20    \t21255.9\t21255.9\t21255.9\t3.63798e-12\n",
            "95 \t20    \t21255.9\t21255.9\t21255.9\t3.63798e-12\n",
            "96 \t20    \t21255.9\t21255.9\t21255.9\t3.63798e-12\n",
            "97 \t20    \t21255.9\t21255.9\t21255.9\t3.63798e-12\n",
            "98 \t20    \t21255.9\t21255.9\t21255.9\t3.63798e-12\n",
            "99 \t20    \t21255.9\t21255.9\t21255.9\t3.63798e-12\n",
            "100\t20    \t21255.9\t21255.9\t21255.9\t3.63798e-12\n"
          ]
        }
      ]
    },
    {
      "cell_type": "code",
      "metadata": {
        "colab": {
          "base_uri": "https://localhost:8080/"
        },
        "id": "0eUT7ADb5ecP",
        "outputId": "a6ef71d2-8884-4d57-e67b-711f8ab5435f"
      },
      "source": [
        "best_solutions = tools.selBest(population, 1)\n",
        "for individual in best_solutions:\n",
        "  print(individual)\n",
        "  print(individual.fitness)\n",
        "  for i in range(len(individual)):\n",
        "    if individual[i] == 1:\n",
        "      print('Name: ', names[i], ' - Price: ', prices[i])"
      ],
      "execution_count": 53,
      "outputs": [
        {
          "output_type": "stream",
          "name": "stdout",
          "text": [
            "[1, 1, 1, 1, 0, 1, 1, 0, 0, 1, 0, 0, 1, 1]\n",
            "(21255.9,)\n",
            "Name:  Refrigerator A  - Price:  999.9\n",
            "Name:  Cell phone  - Price:  2911.12\n",
            "Name:  TV 55'   - Price:  4346.99\n",
            "Name:  TV 50'   - Price:  3999.9\n",
            "Name:  Notebook A  - Price:  2499.9\n",
            "Name:  Ventilator  - Price:  199.9\n",
            "Name:  Microwave C  - Price:  299.29\n",
            "Name:  Notebook B  - Price:  1999.9\n",
            "Name:  Notebook C  - Price:  3999.0\n"
          ]
        }
      ]
    },
    {
      "cell_type": "code",
      "metadata": {
        "colab": {
          "base_uri": "https://localhost:8080/"
        },
        "id": "32qozfa46Y5f",
        "outputId": "b626553c-b12f-4aac-a694-e4dfae97e66e"
      },
      "source": [
        "info.select('max')"
      ],
      "execution_count": 54,
      "outputs": [
        {
          "output_type": "execute_result",
          "data": {
            "text/plain": [
              "[16302.74,\n",
              " 20213.760000000002,\n",
              " 17565.57,\n",
              " 21364.66,\n",
              " 18453.54,\n",
              " 18453.54,\n",
              " 20794.66,\n",
              " 20794.66,\n",
              " 20794.66,\n",
              " 20794.66,\n",
              " 19294.66,\n",
              " 18883.44,\n",
              " 20794.66,\n",
              " 20794.66,\n",
              " 20794.66,\n",
              " 20794.66,\n",
              " 21794.56,\n",
              " 21794.56,\n",
              " 21794.56,\n",
              " 20794.66,\n",
              " 20794.66,\n",
              " 20794.66,\n",
              " 20256.0,\n",
              " 20364.760000000002,\n",
              " 20364.760000000002,\n",
              " 21056.0,\n",
              " 21364.66,\n",
              " 21364.66,\n",
              " 21364.66,\n",
              " 21364.66,\n",
              " 21056.0,\n",
              " 20256.0,\n",
              " 21255.9,\n",
              " 21255.9,\n",
              " 21255.9,\n",
              " 21255.9,\n",
              " 21255.9,\n",
              " 21255.9,\n",
              " 21255.9,\n",
              " 21255.9,\n",
              " 21255.9,\n",
              " 21255.9,\n",
              " 21056.0,\n",
              " 21255.9,\n",
              " 21255.9,\n",
              " 21255.9,\n",
              " 21255.9,\n",
              " 21255.9,\n",
              " 21255.9,\n",
              " 21255.9,\n",
              " 21255.9,\n",
              " 21255.9,\n",
              " 21255.9,\n",
              " 21255.9,\n",
              " 21255.9,\n",
              " 21255.9,\n",
              " 21255.9,\n",
              " 21255.9,\n",
              " 21255.9,\n",
              " 21255.9,\n",
              " 21255.9,\n",
              " 21255.9,\n",
              " 21255.9,\n",
              " 21255.9,\n",
              " 21255.9,\n",
              " 21255.9,\n",
              " 21255.9,\n",
              " 21255.9,\n",
              " 21255.9,\n",
              " 21255.9,\n",
              " 21255.9,\n",
              " 21255.9,\n",
              " 21255.9,\n",
              " 21255.9,\n",
              " 21255.9,\n",
              " 21255.9,\n",
              " 21255.9,\n",
              " 21255.9,\n",
              " 21255.9,\n",
              " 21255.9,\n",
              " 21255.9,\n",
              " 21255.9,\n",
              " 21255.9,\n",
              " 21255.9,\n",
              " 21255.9,\n",
              " 21255.9,\n",
              " 21255.9,\n",
              " 21255.9,\n",
              " 21255.9,\n",
              " 21255.9,\n",
              " 21255.9,\n",
              " 21255.9,\n",
              " 21255.9,\n",
              " 21255.9,\n",
              " 21255.9,\n",
              " 21255.9,\n",
              " 21255.9,\n",
              " 21255.9,\n",
              " 21255.9,\n",
              " 21255.9,\n",
              " 21255.9]"
            ]
          },
          "metadata": {},
          "execution_count": 54
        }
      ]
    },
    {
      "cell_type": "code",
      "metadata": {
        "colab": {
          "base_uri": "https://localhost:8080/",
          "height": 0
        },
        "id": "Wd-cqOk-6g3n",
        "outputId": "56324235-add7-4b5c-d592-41955d95c2ab"
      },
      "source": [
        "import plotly.express as px\n",
        "figure = px.line(x = range(0,101), y = info.select('max'), title = 'Genetic algorithm results')\n",
        "figure.show()"
      ],
      "execution_count": 55,
      "outputs": [
        {
          "output_type": "display_data",
          "data": {
            "text/html": [
              "<html>\n",
              "<head><meta charset=\"utf-8\" /></head>\n",
              "<body>\n",
              "    <div>            <script src=\"https://cdnjs.cloudflare.com/ajax/libs/mathjax/2.7.5/MathJax.js?config=TeX-AMS-MML_SVG\"></script><script type=\"text/javascript\">if (window.MathJax) {MathJax.Hub.Config({SVG: {font: \"STIX-Web\"}});}</script>                <script type=\"text/javascript\">window.PlotlyConfig = {MathJaxConfig: 'local'};</script>\n",
              "        <script src=\"https://cdn.plot.ly/plotly-2.8.3.min.js\"></script>                <div id=\"22748a24-b6c4-45cb-93ff-cc0a06aca442\" class=\"plotly-graph-div\" style=\"height:525px; width:100%;\"></div>            <script type=\"text/javascript\">                                    window.PLOTLYENV=window.PLOTLYENV || {};                                    if (document.getElementById(\"22748a24-b6c4-45cb-93ff-cc0a06aca442\")) {                    Plotly.newPlot(                        \"22748a24-b6c4-45cb-93ff-cc0a06aca442\",                        [{\"hovertemplate\":\"x=%{x}<br>y=%{y}<extra></extra>\",\"legendgroup\":\"\",\"line\":{\"color\":\"#636efa\",\"dash\":\"solid\"},\"marker\":{\"symbol\":\"circle\"},\"mode\":\"lines\",\"name\":\"\",\"orientation\":\"v\",\"showlegend\":false,\"x\":[0,1,2,3,4,5,6,7,8,9,10,11,12,13,14,15,16,17,18,19,20,21,22,23,24,25,26,27,28,29,30,31,32,33,34,35,36,37,38,39,40,41,42,43,44,45,46,47,48,49,50,51,52,53,54,55,56,57,58,59,60,61,62,63,64,65,66,67,68,69,70,71,72,73,74,75,76,77,78,79,80,81,82,83,84,85,86,87,88,89,90,91,92,93,94,95,96,97,98,99,100],\"xaxis\":\"x\",\"y\":[16302.74,20213.760000000002,17565.57,21364.66,18453.54,18453.54,20794.66,20794.66,20794.66,20794.66,19294.66,18883.44,20794.66,20794.66,20794.66,20794.66,21794.56,21794.56,21794.56,20794.66,20794.66,20794.66,20256.0,20364.760000000002,20364.760000000002,21056.0,21364.66,21364.66,21364.66,21364.66,21056.0,20256.0,21255.9,21255.9,21255.9,21255.9,21255.9,21255.9,21255.9,21255.9,21255.9,21255.9,21056.0,21255.9,21255.9,21255.9,21255.9,21255.9,21255.9,21255.9,21255.9,21255.9,21255.9,21255.9,21255.9,21255.9,21255.9,21255.9,21255.9,21255.9,21255.9,21255.9,21255.9,21255.9,21255.9,21255.9,21255.9,21255.9,21255.9,21255.9,21255.9,21255.9,21255.9,21255.9,21255.9,21255.9,21255.9,21255.9,21255.9,21255.9,21255.9,21255.9,21255.9,21255.9,21255.9,21255.9,21255.9,21255.9,21255.9,21255.9,21255.9,21255.9,21255.9,21255.9,21255.9,21255.9,21255.9,21255.9,21255.9,21255.9,21255.9],\"yaxis\":\"y\",\"type\":\"scatter\"}],                        {\"template\":{\"data\":{\"bar\":[{\"error_x\":{\"color\":\"#2a3f5f\"},\"error_y\":{\"color\":\"#2a3f5f\"},\"marker\":{\"line\":{\"color\":\"#E5ECF6\",\"width\":0.5},\"pattern\":{\"fillmode\":\"overlay\",\"size\":10,\"solidity\":0.2}},\"type\":\"bar\"}],\"barpolar\":[{\"marker\":{\"line\":{\"color\":\"#E5ECF6\",\"width\":0.5},\"pattern\":{\"fillmode\":\"overlay\",\"size\":10,\"solidity\":0.2}},\"type\":\"barpolar\"}],\"carpet\":[{\"aaxis\":{\"endlinecolor\":\"#2a3f5f\",\"gridcolor\":\"white\",\"linecolor\":\"white\",\"minorgridcolor\":\"white\",\"startlinecolor\":\"#2a3f5f\"},\"baxis\":{\"endlinecolor\":\"#2a3f5f\",\"gridcolor\":\"white\",\"linecolor\":\"white\",\"minorgridcolor\":\"white\",\"startlinecolor\":\"#2a3f5f\"},\"type\":\"carpet\"}],\"choropleth\":[{\"colorbar\":{\"outlinewidth\":0,\"ticks\":\"\"},\"type\":\"choropleth\"}],\"contour\":[{\"colorbar\":{\"outlinewidth\":0,\"ticks\":\"\"},\"colorscale\":[[0.0,\"#0d0887\"],[0.1111111111111111,\"#46039f\"],[0.2222222222222222,\"#7201a8\"],[0.3333333333333333,\"#9c179e\"],[0.4444444444444444,\"#bd3786\"],[0.5555555555555556,\"#d8576b\"],[0.6666666666666666,\"#ed7953\"],[0.7777777777777778,\"#fb9f3a\"],[0.8888888888888888,\"#fdca26\"],[1.0,\"#f0f921\"]],\"type\":\"contour\"}],\"contourcarpet\":[{\"colorbar\":{\"outlinewidth\":0,\"ticks\":\"\"},\"type\":\"contourcarpet\"}],\"heatmap\":[{\"colorbar\":{\"outlinewidth\":0,\"ticks\":\"\"},\"colorscale\":[[0.0,\"#0d0887\"],[0.1111111111111111,\"#46039f\"],[0.2222222222222222,\"#7201a8\"],[0.3333333333333333,\"#9c179e\"],[0.4444444444444444,\"#bd3786\"],[0.5555555555555556,\"#d8576b\"],[0.6666666666666666,\"#ed7953\"],[0.7777777777777778,\"#fb9f3a\"],[0.8888888888888888,\"#fdca26\"],[1.0,\"#f0f921\"]],\"type\":\"heatmap\"}],\"heatmapgl\":[{\"colorbar\":{\"outlinewidth\":0,\"ticks\":\"\"},\"colorscale\":[[0.0,\"#0d0887\"],[0.1111111111111111,\"#46039f\"],[0.2222222222222222,\"#7201a8\"],[0.3333333333333333,\"#9c179e\"],[0.4444444444444444,\"#bd3786\"],[0.5555555555555556,\"#d8576b\"],[0.6666666666666666,\"#ed7953\"],[0.7777777777777778,\"#fb9f3a\"],[0.8888888888888888,\"#fdca26\"],[1.0,\"#f0f921\"]],\"type\":\"heatmapgl\"}],\"histogram\":[{\"marker\":{\"pattern\":{\"fillmode\":\"overlay\",\"size\":10,\"solidity\":0.2}},\"type\":\"histogram\"}],\"histogram2d\":[{\"colorbar\":{\"outlinewidth\":0,\"ticks\":\"\"},\"colorscale\":[[0.0,\"#0d0887\"],[0.1111111111111111,\"#46039f\"],[0.2222222222222222,\"#7201a8\"],[0.3333333333333333,\"#9c179e\"],[0.4444444444444444,\"#bd3786\"],[0.5555555555555556,\"#d8576b\"],[0.6666666666666666,\"#ed7953\"],[0.7777777777777778,\"#fb9f3a\"],[0.8888888888888888,\"#fdca26\"],[1.0,\"#f0f921\"]],\"type\":\"histogram2d\"}],\"histogram2dcontour\":[{\"colorbar\":{\"outlinewidth\":0,\"ticks\":\"\"},\"colorscale\":[[0.0,\"#0d0887\"],[0.1111111111111111,\"#46039f\"],[0.2222222222222222,\"#7201a8\"],[0.3333333333333333,\"#9c179e\"],[0.4444444444444444,\"#bd3786\"],[0.5555555555555556,\"#d8576b\"],[0.6666666666666666,\"#ed7953\"],[0.7777777777777778,\"#fb9f3a\"],[0.8888888888888888,\"#fdca26\"],[1.0,\"#f0f921\"]],\"type\":\"histogram2dcontour\"}],\"mesh3d\":[{\"colorbar\":{\"outlinewidth\":0,\"ticks\":\"\"},\"type\":\"mesh3d\"}],\"parcoords\":[{\"line\":{\"colorbar\":{\"outlinewidth\":0,\"ticks\":\"\"}},\"type\":\"parcoords\"}],\"pie\":[{\"automargin\":true,\"type\":\"pie\"}],\"scatter\":[{\"marker\":{\"colorbar\":{\"outlinewidth\":0,\"ticks\":\"\"}},\"type\":\"scatter\"}],\"scatter3d\":[{\"line\":{\"colorbar\":{\"outlinewidth\":0,\"ticks\":\"\"}},\"marker\":{\"colorbar\":{\"outlinewidth\":0,\"ticks\":\"\"}},\"type\":\"scatter3d\"}],\"scattercarpet\":[{\"marker\":{\"colorbar\":{\"outlinewidth\":0,\"ticks\":\"\"}},\"type\":\"scattercarpet\"}],\"scattergeo\":[{\"marker\":{\"colorbar\":{\"outlinewidth\":0,\"ticks\":\"\"}},\"type\":\"scattergeo\"}],\"scattergl\":[{\"marker\":{\"colorbar\":{\"outlinewidth\":0,\"ticks\":\"\"}},\"type\":\"scattergl\"}],\"scattermapbox\":[{\"marker\":{\"colorbar\":{\"outlinewidth\":0,\"ticks\":\"\"}},\"type\":\"scattermapbox\"}],\"scatterpolar\":[{\"marker\":{\"colorbar\":{\"outlinewidth\":0,\"ticks\":\"\"}},\"type\":\"scatterpolar\"}],\"scatterpolargl\":[{\"marker\":{\"colorbar\":{\"outlinewidth\":0,\"ticks\":\"\"}},\"type\":\"scatterpolargl\"}],\"scatterternary\":[{\"marker\":{\"colorbar\":{\"outlinewidth\":0,\"ticks\":\"\"}},\"type\":\"scatterternary\"}],\"surface\":[{\"colorbar\":{\"outlinewidth\":0,\"ticks\":\"\"},\"colorscale\":[[0.0,\"#0d0887\"],[0.1111111111111111,\"#46039f\"],[0.2222222222222222,\"#7201a8\"],[0.3333333333333333,\"#9c179e\"],[0.4444444444444444,\"#bd3786\"],[0.5555555555555556,\"#d8576b\"],[0.6666666666666666,\"#ed7953\"],[0.7777777777777778,\"#fb9f3a\"],[0.8888888888888888,\"#fdca26\"],[1.0,\"#f0f921\"]],\"type\":\"surface\"}],\"table\":[{\"cells\":{\"fill\":{\"color\":\"#EBF0F8\"},\"line\":{\"color\":\"white\"}},\"header\":{\"fill\":{\"color\":\"#C8D4E3\"},\"line\":{\"color\":\"white\"}},\"type\":\"table\"}]},\"layout\":{\"annotationdefaults\":{\"arrowcolor\":\"#2a3f5f\",\"arrowhead\":0,\"arrowwidth\":1},\"autotypenumbers\":\"strict\",\"coloraxis\":{\"colorbar\":{\"outlinewidth\":0,\"ticks\":\"\"}},\"colorscale\":{\"diverging\":[[0,\"#8e0152\"],[0.1,\"#c51b7d\"],[0.2,\"#de77ae\"],[0.3,\"#f1b6da\"],[0.4,\"#fde0ef\"],[0.5,\"#f7f7f7\"],[0.6,\"#e6f5d0\"],[0.7,\"#b8e186\"],[0.8,\"#7fbc41\"],[0.9,\"#4d9221\"],[1,\"#276419\"]],\"sequential\":[[0.0,\"#0d0887\"],[0.1111111111111111,\"#46039f\"],[0.2222222222222222,\"#7201a8\"],[0.3333333333333333,\"#9c179e\"],[0.4444444444444444,\"#bd3786\"],[0.5555555555555556,\"#d8576b\"],[0.6666666666666666,\"#ed7953\"],[0.7777777777777778,\"#fb9f3a\"],[0.8888888888888888,\"#fdca26\"],[1.0,\"#f0f921\"]],\"sequentialminus\":[[0.0,\"#0d0887\"],[0.1111111111111111,\"#46039f\"],[0.2222222222222222,\"#7201a8\"],[0.3333333333333333,\"#9c179e\"],[0.4444444444444444,\"#bd3786\"],[0.5555555555555556,\"#d8576b\"],[0.6666666666666666,\"#ed7953\"],[0.7777777777777778,\"#fb9f3a\"],[0.8888888888888888,\"#fdca26\"],[1.0,\"#f0f921\"]]},\"colorway\":[\"#636efa\",\"#EF553B\",\"#00cc96\",\"#ab63fa\",\"#FFA15A\",\"#19d3f3\",\"#FF6692\",\"#B6E880\",\"#FF97FF\",\"#FECB52\"],\"font\":{\"color\":\"#2a3f5f\"},\"geo\":{\"bgcolor\":\"white\",\"lakecolor\":\"white\",\"landcolor\":\"#E5ECF6\",\"showlakes\":true,\"showland\":true,\"subunitcolor\":\"white\"},\"hoverlabel\":{\"align\":\"left\"},\"hovermode\":\"closest\",\"mapbox\":{\"style\":\"light\"},\"paper_bgcolor\":\"white\",\"plot_bgcolor\":\"#E5ECF6\",\"polar\":{\"angularaxis\":{\"gridcolor\":\"white\",\"linecolor\":\"white\",\"ticks\":\"\"},\"bgcolor\":\"#E5ECF6\",\"radialaxis\":{\"gridcolor\":\"white\",\"linecolor\":\"white\",\"ticks\":\"\"}},\"scene\":{\"xaxis\":{\"backgroundcolor\":\"#E5ECF6\",\"gridcolor\":\"white\",\"gridwidth\":2,\"linecolor\":\"white\",\"showbackground\":true,\"ticks\":\"\",\"zerolinecolor\":\"white\"},\"yaxis\":{\"backgroundcolor\":\"#E5ECF6\",\"gridcolor\":\"white\",\"gridwidth\":2,\"linecolor\":\"white\",\"showbackground\":true,\"ticks\":\"\",\"zerolinecolor\":\"white\"},\"zaxis\":{\"backgroundcolor\":\"#E5ECF6\",\"gridcolor\":\"white\",\"gridwidth\":2,\"linecolor\":\"white\",\"showbackground\":true,\"ticks\":\"\",\"zerolinecolor\":\"white\"}},\"shapedefaults\":{\"line\":{\"color\":\"#2a3f5f\"}},\"ternary\":{\"aaxis\":{\"gridcolor\":\"white\",\"linecolor\":\"white\",\"ticks\":\"\"},\"baxis\":{\"gridcolor\":\"white\",\"linecolor\":\"white\",\"ticks\":\"\"},\"bgcolor\":\"#E5ECF6\",\"caxis\":{\"gridcolor\":\"white\",\"linecolor\":\"white\",\"ticks\":\"\"}},\"title\":{\"x\":0.05},\"xaxis\":{\"automargin\":true,\"gridcolor\":\"white\",\"linecolor\":\"white\",\"ticks\":\"\",\"title\":{\"standoff\":15},\"zerolinecolor\":\"white\",\"zerolinewidth\":2},\"yaxis\":{\"automargin\":true,\"gridcolor\":\"white\",\"linecolor\":\"white\",\"ticks\":\"\",\"title\":{\"standoff\":15},\"zerolinecolor\":\"white\",\"zerolinewidth\":2}}},\"xaxis\":{\"anchor\":\"y\",\"domain\":[0.0,1.0],\"title\":{\"text\":\"x\"}},\"yaxis\":{\"anchor\":\"x\",\"domain\":[0.0,1.0],\"title\":{\"text\":\"y\"}},\"legend\":{\"tracegroupgap\":0},\"title\":{\"text\":\"Genetic algorithm results\"}},                        {\"responsive\": true}                    ).then(function(){\n",
              "                            \n",
              "var gd = document.getElementById('22748a24-b6c4-45cb-93ff-cc0a06aca442');\n",
              "var x = new MutationObserver(function (mutations, observer) {{\n",
              "        var display = window.getComputedStyle(gd).display;\n",
              "        if (!display || display === 'none') {{\n",
              "            console.log([gd, 'removed!']);\n",
              "            Plotly.purge(gd);\n",
              "            observer.disconnect();\n",
              "        }}\n",
              "}});\n",
              "\n",
              "// Listen for the removal of the full notebook cells\n",
              "var notebookContainer = gd.closest('#notebook-container');\n",
              "if (notebookContainer) {{\n",
              "    x.observe(notebookContainer, {childList: true});\n",
              "}}\n",
              "\n",
              "// Listen for the clearing of the current output cell\n",
              "var outputEl = gd.closest('.output');\n",
              "if (outputEl) {{\n",
              "    x.observe(outputEl, {childList: true});\n",
              "}}\n",
              "\n",
              "                        })                };                            </script>        </div>\n",
              "</body>\n",
              "</html>"
            ]
          },
          "metadata": {}
        }
      ]
    },
    {
      "cell_type": "markdown",
      "metadata": {
        "id": "u_rsSQ_97BaQ"
      },
      "source": [
        "# MLROSe library - transport of products\n",
        "\n",
        "- Documentation: https://mlrose.readthedocs.io/en/stable/source/tutorial1.html#"
      ]
    },
    {
      "cell_type": "code",
      "metadata": {
        "colab": {
          "base_uri": "https://localhost:8080/"
        },
        "id": "u7vQkber7CN0",
        "outputId": "d6b34f34-1fe6-4341-ec63-cee13f028c54"
      },
      "source": [
        "!pip install mlrose\n",
        "#!pip install mlrose == 1.3.0"
      ],
      "execution_count": 56,
      "outputs": [
        {
          "output_type": "stream",
          "name": "stdout",
          "text": [
            "Looking in indexes: https://pypi.org/simple, https://us-python.pkg.dev/colab-wheels/public/simple/\n",
            "Collecting mlrose\n",
            "  Downloading mlrose-1.3.0-py3-none-any.whl (27 kB)\n",
            "Requirement already satisfied: numpy in /usr/local/lib/python3.7/dist-packages (from mlrose) (1.21.6)\n",
            "Requirement already satisfied: sklearn in /usr/local/lib/python3.7/dist-packages (from mlrose) (0.0)\n",
            "Requirement already satisfied: scipy in /usr/local/lib/python3.7/dist-packages (from mlrose) (1.7.3)\n",
            "Requirement already satisfied: scikit-learn in /usr/local/lib/python3.7/dist-packages (from sklearn->mlrose) (1.0.2)\n",
            "Requirement already satisfied: joblib>=0.11 in /usr/local/lib/python3.7/dist-packages (from scikit-learn->sklearn->mlrose) (1.1.0)\n",
            "Requirement already satisfied: threadpoolctl>=2.0.0 in /usr/local/lib/python3.7/dist-packages (from scikit-learn->sklearn->mlrose) (3.1.0)\n",
            "Installing collected packages: mlrose\n",
            "Successfully installed mlrose-1.3.0\n"
          ]
        }
      ]
    },
    {
      "cell_type": "code",
      "metadata": {
        "id": "vxpT_RQo_A8F",
        "outputId": "f61e194d-16b5-46ed-ba69-da0494a62784",
        "colab": {
          "base_uri": "https://localhost:8080/",
          "height": 450
        }
      },
      "source": [
        "import mlrose"
      ],
      "execution_count": 57,
      "outputs": [
        {
          "output_type": "error",
          "ename": "ImportError",
          "evalue": "ignored",
          "traceback": [
            "\u001b[0;31m---------------------------------------------------------------------------\u001b[0m",
            "\u001b[0;31mImportError\u001b[0m                               Traceback (most recent call last)",
            "\u001b[0;32m<ipython-input-57-e28c59840eed>\u001b[0m in \u001b[0;36m<module>\u001b[0;34m\u001b[0m\n\u001b[0;32m----> 1\u001b[0;31m \u001b[0;32mimport\u001b[0m \u001b[0mmlrose\u001b[0m\u001b[0;34m\u001b[0m\u001b[0;34m\u001b[0m\u001b[0m\n\u001b[0m",
            "\u001b[0;32m/usr/local/lib/python3.7/dist-packages/mlrose/__init__.py\u001b[0m in \u001b[0;36m<module>\u001b[0;34m\u001b[0m\n\u001b[1;32m     10\u001b[0m                       \u001b[0mKnapsack\u001b[0m\u001b[0;34m,\u001b[0m \u001b[0mTravellingSales\u001b[0m\u001b[0;34m,\u001b[0m \u001b[0mQueens\u001b[0m\u001b[0;34m,\u001b[0m \u001b[0mMaxKColor\u001b[0m\u001b[0;34m,\u001b[0m\u001b[0;34m\u001b[0m\u001b[0;34m\u001b[0m\u001b[0m\n\u001b[1;32m     11\u001b[0m                       CustomFitness)\n\u001b[0;32m---> 12\u001b[0;31m \u001b[0;32mfrom\u001b[0m \u001b[0;34m.\u001b[0m\u001b[0mneural\u001b[0m \u001b[0;32mimport\u001b[0m \u001b[0mNeuralNetwork\u001b[0m\u001b[0;34m,\u001b[0m \u001b[0mLinearRegression\u001b[0m\u001b[0;34m,\u001b[0m \u001b[0mLogisticRegression\u001b[0m\u001b[0;34m\u001b[0m\u001b[0;34m\u001b[0m\u001b[0m\n\u001b[0m\u001b[1;32m     13\u001b[0m \u001b[0;32mfrom\u001b[0m \u001b[0;34m.\u001b[0m\u001b[0mopt_probs\u001b[0m \u001b[0;32mimport\u001b[0m \u001b[0mDiscreteOpt\u001b[0m\u001b[0;34m,\u001b[0m \u001b[0mContinuousOpt\u001b[0m\u001b[0;34m,\u001b[0m \u001b[0mTSPOpt\u001b[0m\u001b[0;34m\u001b[0m\u001b[0;34m\u001b[0m\u001b[0m\n",
            "\u001b[0;32m/usr/local/lib/python3.7/dist-packages/mlrose/neural.py\u001b[0m in \u001b[0;36m<module>\u001b[0;34m\u001b[0m\n\u001b[1;32m     10\u001b[0m \u001b[0;32mfrom\u001b[0m \u001b[0msklearn\u001b[0m\u001b[0;34m.\u001b[0m\u001b[0mbase\u001b[0m \u001b[0;32mimport\u001b[0m \u001b[0mBaseEstimator\u001b[0m\u001b[0;34m,\u001b[0m \u001b[0mClassifierMixin\u001b[0m\u001b[0;34m,\u001b[0m \u001b[0mRegressorMixin\u001b[0m\u001b[0;34m\u001b[0m\u001b[0;34m\u001b[0m\u001b[0m\n\u001b[1;32m     11\u001b[0m \u001b[0;32mfrom\u001b[0m \u001b[0msklearn\u001b[0m\u001b[0;34m.\u001b[0m\u001b[0mmetrics\u001b[0m \u001b[0;32mimport\u001b[0m \u001b[0mmean_squared_error\u001b[0m\u001b[0;34m,\u001b[0m \u001b[0mlog_loss\u001b[0m\u001b[0;34m\u001b[0m\u001b[0;34m\u001b[0m\u001b[0m\n\u001b[0;32m---> 12\u001b[0;31m \u001b[0;32mfrom\u001b[0m \u001b[0msklearn\u001b[0m\u001b[0;34m.\u001b[0m\u001b[0mexternals\u001b[0m \u001b[0;32mimport\u001b[0m \u001b[0msix\u001b[0m\u001b[0;34m\u001b[0m\u001b[0;34m\u001b[0m\u001b[0m\n\u001b[0m\u001b[1;32m     13\u001b[0m \u001b[0;32mfrom\u001b[0m \u001b[0;34m.\u001b[0m\u001b[0mactivation\u001b[0m \u001b[0;32mimport\u001b[0m \u001b[0midentity\u001b[0m\u001b[0;34m,\u001b[0m \u001b[0mrelu\u001b[0m\u001b[0;34m,\u001b[0m \u001b[0msigmoid\u001b[0m\u001b[0;34m,\u001b[0m \u001b[0msoftmax\u001b[0m\u001b[0;34m,\u001b[0m \u001b[0mtanh\u001b[0m\u001b[0;34m\u001b[0m\u001b[0;34m\u001b[0m\u001b[0m\n\u001b[1;32m     14\u001b[0m \u001b[0;32mfrom\u001b[0m \u001b[0;34m.\u001b[0m\u001b[0malgorithms\u001b[0m \u001b[0;32mimport\u001b[0m \u001b[0mrandom_hill_climb\u001b[0m\u001b[0;34m,\u001b[0m \u001b[0msimulated_annealing\u001b[0m\u001b[0;34m,\u001b[0m \u001b[0mgenetic_alg\u001b[0m\u001b[0;34m\u001b[0m\u001b[0;34m\u001b[0m\u001b[0m\n",
            "\u001b[0;31mImportError\u001b[0m: cannot import name 'six' from 'sklearn.externals' (/usr/local/lib/python3.7/dist-packages/sklearn/externals/__init__.py)",
            "",
            "\u001b[0;31m---------------------------------------------------------------------------\u001b[0;32m\nNOTE: If your import is failing due to a missing package, you can\nmanually install dependencies using either !pip or !apt.\n\nTo view examples of installing some common dependencies, click the\n\"Open Examples\" button below.\n\u001b[0;31m---------------------------------------------------------------------------\u001b[0m\n"
          ],
          "errorDetails": {
            "actions": [
              {
                "action": "open_url",
                "actionText": "Open Examples",
                "url": "/notebooks/snippets/importing_libraries.ipynb"
              }
            ]
          }
        }
      ]
    },
    {
      "cell_type": "code",
      "metadata": {
        "id": "Ar22TSxl_H8K"
      },
      "source": [
        "products = [('Refrigerator A', 0.751, 999.90),\n",
        "            ('Cell phone', 0.0000899, 2911.12),\n",
        "            ('TV 55', 0.400, 4346.99),\n",
        "            ('TV 50', 0.290, 3999.90),\n",
        "            ('TV 42', 0.200, 2999.00),\n",
        "            ('Notebook A', 0.00350, 2499.90),\n",
        "            ('Ventilator', 0.496, 199.90),\n",
        "            ('Microwave A', 0.0424, 308.66),\n",
        "            ('Microwave B', 0.0544, 429.90),\n",
        "            ('Microwave C', 0.0319, 299.29),\n",
        "            ('Refrigerator B', 0.635, 849.00),\n",
        "            ('Refrigerator C', 0.870, 1199.89),\n",
        "            ('Notebook B', 0.498, 1999.90),\n",
        "            ('Notebook C', 0.527, 3999.00)]"
      ],
      "execution_count": null,
      "outputs": []
    },
    {
      "cell_type": "code",
      "metadata": {
        "id": "B0Z2AnPK_QKG"
      },
      "source": [
        "products"
      ],
      "execution_count": null,
      "outputs": []
    },
    {
      "cell_type": "code",
      "metadata": {
        "id": "1Mr3ikYt_Sjk"
      },
      "source": [
        "limit = 3"
      ],
      "execution_count": null,
      "outputs": []
    },
    {
      "cell_type": "code",
      "metadata": {
        "id": "RopcQkGM_XMs"
      },
      "source": [
        "def fitness_function(solution):\n",
        "  cost = 0\n",
        "  sum_space = 0\n",
        "  for i in range(len(solution)):\n",
        "    if solution[i] == 1:\n",
        "      cost += products[i][2]\n",
        "      sum_space += products[i][1]\n",
        "  if sum_space > limit:\n",
        "    cost = 1\n",
        "  return cost"
      ],
      "execution_count": null,
      "outputs": []
    },
    {
      "cell_type": "code",
      "metadata": {
        "id": "f1MeTS21_jmd"
      },
      "source": [
        "fitness = mlrose.CustomFitness(fitness_function)"
      ],
      "execution_count": null,
      "outputs": []
    },
    {
      "cell_type": "code",
      "metadata": {
        "id": "iSDG8FsU_ynT"
      },
      "source": [
        "len(products)"
      ],
      "execution_count": null,
      "outputs": []
    },
    {
      "cell_type": "code",
      "metadata": {
        "id": "a5mWKjD6_rlv"
      },
      "source": [
        "problem = mlrose.DiscreteOpt(length=len(products), fitness_fn=fitness, maximize=True, max_val=2) # 0, 1"
      ],
      "execution_count": null,
      "outputs": []
    },
    {
      "cell_type": "code",
      "metadata": {
        "id": "Q3vXKaG0ALfs"
      },
      "source": [
        "best_solution, best_fitness = mlrose.genetic_alg(problem, pop_size=20, mutation_prob=0.01)\n",
        "best_solution, best_fitness"
      ],
      "execution_count": null,
      "outputs": []
    },
    {
      "cell_type": "code",
      "metadata": {
        "id": "OkXJWW0LA5kj"
      },
      "source": [
        "products[1][0], products[1][2]"
      ],
      "execution_count": null,
      "outputs": []
    },
    {
      "cell_type": "code",
      "metadata": {
        "id": "ukGb_TG-ArFT"
      },
      "source": [
        "for i in range(len(best_solution)):\n",
        "  if best_solution[i] == 1:\n",
        "    print('Name: ', products[i][0], ' - Price: ', products[i][2])"
      ],
      "execution_count": null,
      "outputs": []
    },
    {
      "cell_type": "markdown",
      "metadata": {
        "id": "Kj6xAssNEHQU"
      },
      "source": [
        "# Flight schedule - representing the problem"
      ]
    },
    {
      "cell_type": "code",
      "metadata": {
        "id": "S2PJJF1fEL3k"
      },
      "source": [
        "people = [('Lisbon', 'LIS'),\n",
        "          ('Madrid', 'MAD'),\n",
        "          ('Paris', 'CDG'),\n",
        "          ('Dublin', 'DUB'),\n",
        "          ('Brussels', 'BRU'),\n",
        "          ('London', 'LHR')]"
      ],
      "execution_count": null,
      "outputs": []
    },
    {
      "cell_type": "code",
      "metadata": {
        "id": "nD0lDbVBFjpO"
      },
      "source": [
        "people"
      ],
      "execution_count": null,
      "outputs": []
    },
    {
      "cell_type": "code",
      "metadata": {
        "id": "ek1NcbhBFma_"
      },
      "source": [
        "people[3]"
      ],
      "execution_count": null,
      "outputs": []
    },
    {
      "cell_type": "code",
      "metadata": {
        "id": "-zLsjs1zF1q0"
      },
      "source": [
        "destiny = 'FCO'"
      ],
      "execution_count": null,
      "outputs": []
    },
    {
      "cell_type": "code",
      "metadata": {
        "id": "w_T1maMOF6Uj"
      },
      "source": [
        "flights = {('BRU', 'FCO'): ['15:44', '18:55', 382]}"
      ],
      "execution_count": null,
      "outputs": []
    },
    {
      "cell_type": "code",
      "metadata": {
        "id": "DFHRmplgGRqy"
      },
      "source": [
        "flights"
      ],
      "execution_count": null,
      "outputs": []
    },
    {
      "cell_type": "code",
      "metadata": {
        "id": "glmTvUQaGV0L"
      },
      "source": [
        "flights[('BRU', 'FCO')]"
      ],
      "execution_count": null,
      "outputs": []
    },
    {
      "cell_type": "code",
      "metadata": {
        "id": "56lMqZ7SGhQO"
      },
      "source": [
        "flights[('BRU', 'FCO')][0], flights[('BRU', 'FCO')][1], flights[('BRU', 'FCO')][2]"
      ],
      "execution_count": null,
      "outputs": []
    },
    {
      "cell_type": "code",
      "metadata": {
        "id": "3inlcjuCHTPn"
      },
      "source": [
        "flights = {}\n",
        "for row in open('flights.txt'):\n",
        "  #print(row)\n",
        "  #print(row.split(','))\n",
        "  origin, destiny, departure, arrival, price = row.split(',')\n",
        "  #print(origin, destiny, departure, arrival, price)\n",
        "  flights.setdefault((origin, destiny), [])\n",
        "  #print(flights)\n",
        "  flights[(origin, destiny)].append((departure, arrival, int(price)))"
      ],
      "execution_count": null,
      "outputs": []
    },
    {
      "cell_type": "code",
      "metadata": {
        "id": "j1IDdCPdIoHr"
      },
      "source": [
        "flights"
      ],
      "execution_count": null,
      "outputs": []
    },
    {
      "cell_type": "code",
      "metadata": {
        "id": "dqg5khVOI-r2"
      },
      "source": [
        "flights[('LIS', 'FCO')]"
      ],
      "execution_count": null,
      "outputs": []
    },
    {
      "cell_type": "code",
      "metadata": {
        "id": "9EoTkGoEJEII"
      },
      "source": [
        "flights[('FCO', 'LIS')]"
      ],
      "execution_count": null,
      "outputs": []
    },
    {
      "cell_type": "code",
      "metadata": {
        "id": "bfMXlUV_K2cR"
      },
      "source": [
        "flights[('MAD', 'FCO')]"
      ],
      "execution_count": null,
      "outputs": []
    },
    {
      "cell_type": "code",
      "metadata": {
        "id": "akrZSW9LK4Xp"
      },
      "source": [
        "flights[('FCO', 'MAD')]"
      ],
      "execution_count": null,
      "outputs": []
    },
    {
      "cell_type": "code",
      "metadata": {
        "id": "0k8pnZAjKSHq"
      },
      "source": [
        "schedule = [1,0, 3,2, 7,3, 6,3, 2,4, 5,3]\n",
        "len(schedule)"
      ],
      "execution_count": null,
      "outputs": []
    },
    {
      "cell_type": "code",
      "metadata": {
        "id": "RdV_a3sjLbzq"
      },
      "source": [
        "len(schedule) // 2"
      ],
      "execution_count": null,
      "outputs": []
    },
    {
      "cell_type": "code",
      "metadata": {
        "id": "xwWsV37LLu6k"
      },
      "source": [
        "def print_schedule(schedule):\n",
        "  flight_id = -1\n",
        "  total_price = 0\n",
        "  for i in range(len(schedule) // 2):\n",
        "    name = people[i][0]\n",
        "    #print(name)\n",
        "    origin = people[i][1]\n",
        "    #print(origin)\n",
        "    flight_id += 1\n",
        "    going = flights[(origin, destiny)][schedule[flight_id]]\n",
        "    #print(going)\n",
        "    total_price += going[2]\n",
        "    flight_id += 1\n",
        "    returning = flights[(destiny, origin)][schedule[flight_id]]\n",
        "    total_price += returning[2]\n",
        "    #print('\\n')\n",
        "    print('%10s%10s %5s-%5s %3s %5s-%5s %3s' % (name, origin, going[0], going[1], going[2],\n",
        "                                                returning[0], returning[1], returning[2]))                                                \n",
        "  print('Total price:', total_price)"
      ],
      "execution_count": null,
      "outputs": []
    },
    {
      "cell_type": "code",
      "metadata": {
        "id": "H1i3UZ8ZMDKv"
      },
      "source": [
        "print_schedule(schedule)"
      ],
      "execution_count": null,
      "outputs": []
    },
    {
      "cell_type": "code",
      "metadata": {
        "id": "gXURRqykPL67"
      },
      "source": [
        "def fitness_function_deap(schedule):\n",
        "  flight_id = -1\n",
        "  total_price = 0\n",
        "  for i in range(0, 6):\n",
        "    origin = people[i][1]\n",
        "    flight_id += 1\n",
        "    going = flights[(origin, destiny)][schedule[flight_id]]\n",
        "    total_price += going[2]\n",
        "    flight_id += 1\n",
        "    returning = flights[(destiny, origin)][schedule[flight_id]]\n",
        "    total_price += returning[2]\n",
        "  \n",
        "  return total_price,"
      ],
      "execution_count": null,
      "outputs": []
    },
    {
      "cell_type": "code",
      "metadata": {
        "id": "6p39A80MPgIr"
      },
      "source": [
        "def fitness_function_mlrose(schedule):\n",
        "  flight_id = -1\n",
        "  total_price = 0\n",
        "  for i in range(0, 6):\n",
        "    origin = people[i][1]\n",
        "    flight_id += 1\n",
        "    going = flights[(origin, destiny)][schedule[flight_id]]\n",
        "    total_price += going[2]\n",
        "    flight_id += 1\n",
        "    returning = flights[(destiny, origin)][schedule[flight_id]]\n",
        "    total_price += returning[2]\n",
        "  \n",
        "  return total_price"
      ],
      "execution_count": null,
      "outputs": []
    },
    {
      "cell_type": "markdown",
      "metadata": {
        "id": "Fb34g6cnQ-7u"
      },
      "source": [
        "# DEAP library - Flight schedule"
      ]
    },
    {
      "cell_type": "code",
      "metadata": {
        "id": "84yfIAs3Q_0L"
      },
      "source": [
        "toolbox = base.Toolbox()\n",
        "creator.create('FitnessMin', base.Fitness, weights=(-1.0,))\n",
        "creator.create('Individual', list, fitness=creator.FitnessMin)\n",
        "toolbox.register('attr_int', random.randint, a = 0, b = 9)\n",
        "toolbox.register('individual', tools.initRepeat, creator.Individual, toolbox.attr_int, n=12)\n",
        "toolbox.register('population', tools.initRepeat, list, toolbox.individual)\n",
        "toolbox.register('evaluate', fitness_function_deap)\n",
        "toolbox.register('mate', tools.cxOnePoint)\n",
        "toolbox.register('mutate', tools.mutFlipBit, indpb = 0.01)\n",
        "toolbox.register('select', tools.selTournament, tournsize=3)\n",
        "population = toolbox.population(n = 500)\n",
        "crossover_probability = 0.7\n",
        "mutation_probability = 0.3\n",
        "number_of_generations = 100\n",
        "\n",
        "statistics = tools.Statistics(key=lambda individuo: individuo.fitness.values)\n",
        "statistics.register(\"max\", numpy.max)\n",
        "statistics.register(\"min\", numpy.min)\n",
        "statistics.register(\"med\", numpy.mean)\n",
        "statistics.register(\"std\", numpy.std)\n",
        "    \n",
        "population, info = algorithms.eaSimple(population, toolbox,\n",
        "                                       crossover_probability, mutation_probability,\n",
        "                                       number_of_generations, statistics)"
      ],
      "execution_count": null,
      "outputs": []
    },
    {
      "cell_type": "code",
      "metadata": {
        "id": "HzETgCvZUZor"
      },
      "source": [
        "best_solution = tools.selBest(population, 1)\n",
        "for individual in best_solution:\n",
        "  print(individual)\n",
        "  print(individual.fitness)"
      ],
      "execution_count": null,
      "outputs": []
    },
    {
      "cell_type": "code",
      "metadata": {
        "id": "BDBITTVfUmqy"
      },
      "source": [
        "print_schedule(individual)"
      ],
      "execution_count": null,
      "outputs": []
    },
    {
      "cell_type": "markdown",
      "metadata": {
        "id": "rpET-c0qVFsk"
      },
      "source": [
        "# MLROSe library - Flight schedule"
      ]
    },
    {
      "cell_type": "code",
      "metadata": {
        "id": "KnezqxvcVGjd"
      },
      "source": [
        "fitness = mlrose.CustomFitness(fitness_function_mlrose)"
      ],
      "execution_count": null,
      "outputs": []
    },
    {
      "cell_type": "code",
      "metadata": {
        "id": "saTykP9BVSXZ"
      },
      "source": [
        "problem = mlrose.DiscreteOpt(length=12, fitness_fn=fitness, maximize = False, max_val=10) # 0 - 9"
      ],
      "execution_count": null,
      "outputs": []
    },
    {
      "cell_type": "code",
      "metadata": {
        "id": "YzW6Y20jVlwj"
      },
      "source": [
        "best_solution, best_fitness = mlrose.genetic_alg(problem, pop_size=500, mutation_prob=0.3)\n",
        "best_solution, best_fitness"
      ],
      "execution_count": null,
      "outputs": []
    },
    {
      "cell_type": "code",
      "metadata": {
        "id": "L1ntOcYKV4Sj"
      },
      "source": [
        "print_schedule(best_solution)"
      ],
      "execution_count": null,
      "outputs": []
    }
  ]
}